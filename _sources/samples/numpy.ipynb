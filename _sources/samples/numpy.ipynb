{
  "cells": [
    {
      "cell_type": "markdown",
      "metadata": {
        "id": "gsx3fi_zzx5D"
      },
      "source": [
        "# Introduction to Numpy\n",
        "\n",
        "**Objective**: Gain practical skills in manipulating and analyzing data using Numpy, one of Python's most powerful libraries for data science.\n",
        "\n",
        "This tutorial includes step-by-step examples to familiarize you with the essential functionalities of Numpy. Each example is designed to demonstrate key concepts and techniques for data analysis. To execute the code, select the cell and press SHIFT-ENTER.\n"
      ]
    },
    {
      "cell_type": "markdown",
      "metadata": {
        "id": "-mDDjPP-0PKM"
      },
      "source": [
        "## What is Numpy?\n",
        "\n",
        "Numpy, short for 'Numerical Python', is a fundamental package for scientific computing in Python. It provides powerful support for large, multi-dimensional array and matrix data structures and offers a wide range of mathematical functions to operate on these arrays.\n",
        "\n",
        "### Creating ndarray\n",
        "\n",
        "The primary data structure in Numpy is the ndarray, a multi-dimensional array offering fast and efficient array operations. This section will demonstrate how to create ndarrays from lists and tuples, highlighting the ease of transitioning from Python's standard data structures to Numpy's array-oriented computing approach. You'll learn how to create both one-dimensional and multi-dimensional arrays, serving as the foundation for more complex numerical computations.\n"
      ]
    },
    {
      "cell_type": "code",
      "execution_count": 14,
      "metadata": {
        "colab": {
          "base_uri": "https://localhost:8080/"
        },
        "id": "3j2mZsZWybnz",
        "outputId": "4f0fb40c-0a81-483d-f1a8-0c27fc98c8de"
      },
      "outputs": [
        {
          "name": "stdout",
          "output_type": "stream",
          "text": [
            "[5.5 6.  7.  8.  9. ]\n",
            "Dimensions = 1\n",
            "Shape = (5,)\n",
            "Size = 5\n",
            "Array type = float64\n",
            "\n",
            "[[10 11]\n",
            " [12 13]\n",
            " [14 15]\n",
            " [16 17]]\n",
            "Dimensions = 2\n",
            "Shape = (4, 2)\n",
            "Size = 8\n",
            "Array type = int64\n",
            "\n",
            "[['10' 'x' '4.0']\n",
            " ['20' 'y' '5.5']]\n",
            "Dimensions = 2\n",
            "Shape = (2, 3)\n",
            "Size = 6\n"
          ]
        }
      ],
      "source": [
        "import numpy as np\n",
        "\n",
        "# Creating a 1-dimensional array\n",
        "oneDArray = np.array([5.5, 6, 7, 8, 9])\n",
        "print(oneDArray)\n",
        "print(f\"Dimensions = {oneDArray.ndim}\")\n",
        "print(f\"Shape = {oneDArray.shape}\")\n",
        "print(f\"Size = {oneDArray.size}\")\n",
        "print(f\"Array type = {oneDArray.dtype}\\n\")\n",
        "\n",
        "# Creating a 2-dimensional array\n",
        "twoDArray = np.array([[10, 11], [12, 13], [14, 15], [16, 17]])\n",
        "print(twoDArray)\n",
        "print(f\"Dimensions = {twoDArray.ndim}\")\n",
        "print(f\"Shape = {twoDArray.shape}\")\n",
        "print(f\"Size = {twoDArray.size}\")\n",
        "print(f\"Array type = {twoDArray.dtype}\\n\")\n",
        "\n",
        "# Creating ndarray from a tuple\n",
        "tupleArray = np.array([(10, 'x', 4.0), (20, 'y', 5.5)])\n",
        "print(tupleArray)\n",
        "print(f\"Dimensions = {tupleArray.ndim}\")\n",
        "print(f\"Shape = {tupleArray.shape}\")\n",
        "print(f\"Size = {tupleArray.size}\")\n"
      ]
    },
    {
      "cell_type": "markdown",
      "metadata": {
        "id": "ID5qONkn18ho"
      },
      "source": [
        "#### The following examples utilize numpy functions to create arrays with random values, integers in a range, reshaped matrices, and equally spaced values in specified intervals.\n"
      ]
    },
    {
      "cell_type": "code",
      "execution_count": 15,
      "metadata": {
        "colab": {
          "base_uri": "https://localhost:8080/"
        },
        "id": "-ScxtInE19Sm",
        "outputId": "b15ae947-c473-4627-b1ae-7631a199549e"
      },
      "outputs": [
        {
          "name": "stdout",
          "output_type": "stream",
          "text": [
            "Uniformly distributed random numbers:\n",
            "[0.39861801 0.88668697 0.20946004 0.1230298 ]\n",
            "\n",
            "Normally distributed random numbers:\n",
            "[ 1.03917661  0.4589312   1.11132998 -0.8229497 ]\n",
            "\n",
            "Sequential integers with a custom step:\n",
            "[-5 -4 -3 -2 -1  0  1  2  3  4]\n",
            "\n",
            "Matrix formed by reshaping a sequence:\n",
            "[[ 0  1  2  3]\n",
            " [ 4  5  6  7]\n",
            " [ 8  9 10 11]\n",
            " [12 13 14 15]]\n",
            "\n",
            "Equally spaced values in a given range:\n",
            "[0.  0.5 1.  1.5 2. ]\n",
            "\n",
            "Logarithmically spaced values:\n",
            "[1.e-02 1.e-01 1.e+00 1.e+01 1.e+02]\n"
          ]
        }
      ],
      "source": [
        "print(\"Uniformly distributed random numbers:\")\n",
        "print(np.random.rand(4))  # Generates 4 random numbers between 0 and 1\n",
        "\n",
        "print(\"\\nNormally distributed random numbers:\")\n",
        "print(np.random.randn(4))  # Generates 4 random numbers following a normal distribution\n",
        "\n",
        "print(\"\\nSequential integers with a custom step:\")\n",
        "print(np.arange(-5, 5, 1))  # Creates an array of integers from -5 to 4\n",
        "\n",
        "print(\"\\nMatrix formed by reshaping a sequence:\")\n",
        "print(np.arange(16).reshape(4, 4))  # Reshapes an array of 0-15 into a 4x4 matrix\n",
        "\n",
        "print(\"\\nEqually spaced values in a given range:\")\n",
        "print(np.linspace(0, 2, 5))  # Splits the interval [0,2] into 5 parts\n",
        "\n",
        "print(\"\\nLogarithmically spaced values:\")\n",
        "print(np.logspace(-2, 2, 5))  # Creates an array with values between 10^-2 and 10^2"
      ]
    },
    {
      "cell_type": "markdown",
      "metadata": {
        "id": "gUjQ6QZT2qFN"
      },
      "source": [
        "#### The following examples show how to create matrices filled with zeros or ones and an identity matrix using numpy functions.\n"
      ]
    },
    {
      "cell_type": "code",
      "execution_count": 16,
      "metadata": {
        "colab": {
          "base_uri": "https://localhost:8080/"
        },
        "id": "X8dWs-0U2tzy",
        "outputId": "f06afe15-1035-4fd1-9bb6-c53f4633e25d"
      },
      "outputs": [
        {
          "name": "stdout",
          "output_type": "stream",
          "text": [
            "Matrix filled with zeros:\n",
            "[[0. 0. 0. 0.]\n",
            " [0. 0. 0. 0.]\n",
            " [0. 0. 0. 0.]]\n",
            "\n",
            "Matrix filled with ones:\n",
            "[[1. 1. 1.]\n",
            " [1. 1. 1.]\n",
            " [1. 1. 1.]\n",
            " [1. 1. 1.]]\n",
            "\n",
            "Identity matrix:\n",
            "[[1. 0. 0. 0.]\n",
            " [0. 1. 0. 0.]\n",
            " [0. 0. 1. 0.]\n",
            " [0. 0. 0. 1.]]\n"
          ]
        }
      ],
      "source": [
        "print(\"Matrix filled with zeros:\")\n",
        "print(np.zeros((3, 4)))  # Creates a 3x4 matrix of zeros\n",
        "\n",
        "print(\"\\nMatrix filled with ones:\")\n",
        "print(np.ones((4, 3)))  # Creates a 4x3 matrix of ones\n",
        "\n",
        "print(\"\\nIdentity matrix:\")\n",
        "print(np.eye(4))  # Creates a 4x4 identity matrix\n"
      ]
    },
    {
      "cell_type": "markdown",
      "metadata": {
        "id": "_t58ClbK292j"
      },
      "source": [
        "### Element-wise Operations in Numpy\n",
        "\n",
        "Numpy enables efficient element-wise operations on ndarrays using standard arithmetic operators. These operations allow for concise and fast manipulation of array data, as each element is processed in parallel. This section demonstrates how to perform common arithmetic operations like addition, subtraction, multiplication, and division on an element-by-element basis in numpy arrays.\n"
      ]
    },
    {
      "cell_type": "code",
      "execution_count": 17,
      "metadata": {
        "colab": {
          "base_uri": "https://localhost:8080/"
        },
        "id": "D3ITGY2g3nwu",
        "outputId": "efba7f3d-e248-4fd8-edbc-e2ed48988759"
      },
      "outputs": [
        {
          "name": "stdout",
          "output_type": "stream",
          "text": [
            "a = [10 20 30 40 50]\n",
            "a + 5 = [15 25 35 45 55]\n",
            "a - 5 = [ 5 15 25 35 45]\n",
            "a * 2 = [ 20  40  60  80 100]\n",
            "a // 3 = [ 3  6 10 13 16]\n",
            "a ** 2 = [ 100  400  900 1600 2500]\n",
            "a % 4 = [2 0 2 0 2]\n",
            "1 / a = [0.1        0.05       0.03333333 0.025      0.02      ]\n",
            "b = [ 5 15 25 35 45]\n",
            "c = [ 2  4  6  8 10]\n",
            "b + c = [ 7 19 31 43 55]\n",
            "b - c = [ 3 11 19 27 35]\n",
            "b * c = [ 10  60 150 280 450]\n",
            "b / c = [2.5        3.75       4.16666667 4.375      4.5       ]\n",
            "b // c = [2 3 4 4 4]\n",
            "b ** c = [               25             50625         244140625     2251875390625\n",
            " 34050628916015625]\n"
          ]
        }
      ],
      "source": [
        "a = np.array([10, 20, 30, 40, 50])\n",
        "\n",
        "print(f\"a = {a}\")\n",
        "print(f\"a + 5 = {a + 5}\")  # Adds 5 to each element\n",
        "print(f\"a - 5 = {a - 5}\")  # Subtracts 5 from each element\n",
        "print(f\"a * 2 = {a * 2}\")  # Multiplies each element by 2\n",
        "print(f\"a // 3 = {a // 3}\")  # Integer division of each element by 3\n",
        "print(f\"a ** 2 = {a**2}\")  # Squares each element\n",
        "print(f\"a % 4 = {a % 4}\")  # Modulo operation on each element\n",
        "print(f\"1 / a = {1 / a}\")  # Divides 1 by each element\n",
        "\n",
        "b = np.array([5, 15, 25, 35, 45])\n",
        "c = np.array([2, 4, 6, 8, 10])\n",
        "\n",
        "print(f\"b = {b}\")\n",
        "print(f\"c = {c}\")\n",
        "print(f\"b + c = {b + c}\")  # Element-wise addition\n",
        "print(f\"b - c = {b - c}\")  # Element-wise subtraction\n",
        "print(f\"b * c = {b * c}\")  # Element-wise multiplication\n",
        "print(f\"b / c = {b / c}\")  # Element-wise division\n",
        "print(f\"b // c = {b // c}\")  # Element-wise integer division\n",
        "print(f\"b ** c = {b**c}\")  # Element-wise exponentiation\n"
      ]
    },
    {
      "cell_type": "markdown",
      "metadata": {
        "id": "yVcV4M_n4lED"
      },
      "source": [
        "### Indexing and Slicing in Numpy Arrays\n",
        "\n",
        "Within a Numpy array, a variety of methods are available for selecting specific elements or subsets. It's important to note that when you assign an array or its part to a new variable, it creates a reference to the original array, not a separate copy. To create an actual copy of an array, you must explicitly use the .copy() function to avoid unintended changes to the original data.\n"
      ]
    },
    {
      "cell_type": "code",
      "execution_count": 18,
      "metadata": {
        "colab": {
          "base_uri": "https://localhost:8080/"
        },
        "id": "7SxvGoWW6HZF",
        "outputId": "ac21c32d-e2be-47f6-e05c-50dad8b96fe8"
      },
      "outputs": [
        {
          "name": "stdout",
          "output_type": "stream",
          "text": [
            "Original a = [10 11 12 13 14 15 16 17 18 19]\n",
            "Initial b (slice of a) = [12 13 14]\n",
            "Modified b = [999 999 999]\n",
            "a (after modifying b) = [ 10  11 999 999 999  15  16  17  18  19]\n",
            "\n",
            "Original a = [ 10  11 999 999 999  15  16  17  18  19]\n",
            "Initial c (copy of a slice of a) = [999 999 999]\n",
            "Modified c = [333 333 333]\n",
            "a remains unchanged = [ 10  11 999 999 999  15  16  17  18  19]\n"
          ]
        }
      ],
      "source": [
        "a = np.arange(10, 20)\n",
        "print(f\"Original a = {a}\")\n",
        "\n",
        "# b is a slice, pointing to a subarray in a\n",
        "b = a[2:5]\n",
        "print(f\"Initial b (slice of a) = {b}\")\n",
        "b[:] = 999  # Modifying b will change a\n",
        "print(f\"Modified b = {b}\")\n",
        "print(f\"a (after modifying b) = {a}\\n\")\n",
        "\n",
        "# c is a separate copy of the subarray\n",
        "c = a[2:5].copy()\n",
        "print(f\"Original a = {a}\")\n",
        "print(f\"Initial c (copy of a slice of a) = {c}\")\n",
        "c[:] = 333  # Modifying c does not affect a\n",
        "print(f\"Modified c = {c}\")\n",
        "print(f\"a remains unchanged = {a}\")\n"
      ]
    },
    {
      "cell_type": "markdown",
      "metadata": {
        "id": "bzBCTkX5uGj_"
      },
      "source": [
        "#### The following example contrasts how element retrieval varies between a standard Python list and a numpy ndarray, highlighting the unique capabilities and syntax used in numpy.\n"
      ]
    },
    {
      "cell_type": "code",
      "execution_count": 19,
      "metadata": {
        "colab": {
          "base_uri": "https://localhost:8080/"
        },
        "id": "ZEI3eNwCuF7F",
        "outputId": "2b626cc4-751a-4d42-eeea-ec44e4bf135c"
      },
      "outputs": [
        {
          "name": "stdout",
          "output_type": "stream",
          "text": [
            "New 2D List: [[10, 20, 30], [40, 50, 60], [70, 80, 90]]\n",
            "Second row of 2D List: [40, 50, 60]\n",
            "\n",
            "Converted to numpy 2D array:\n",
            "[[10 20 30]\n",
            " [40 50 60]\n",
            " [70 80 90]]\n",
            "\n",
            "Second row in numpy array: myNew2dArray[1][:]= [40 50 60]\n",
            "Second row in numpy array: myNew2dArray[1, :]= [40 50 60]\n",
            "Third column in numpy array: myNew2dArray[:, 2]= [30 60 90]\n",
            "Top right 2x2 subarray:\n",
            "myNew2dArray[:2, 1:] =\n",
            " [[20 30]\n",
            " [50 60]]\n"
          ]
        }
      ],
      "source": [
        "# Creating a new 2D list\n",
        "myNew2dList = [[10, 20, 30], [40, 50, 60], [70, 80, 90]]\n",
        "print(f\"New 2D List: {myNew2dList}\")\n",
        "print(f\"Second row of 2D List: {myNew2dList[1]}\")\n",
        "# Note: Accessing elements in a list of lists can be limited\n",
        "\n",
        "# Converting the 2D list to a numpy array\n",
        "myNew2dArray = np.array(myNew2dList)\n",
        "print(f\"\\nConverted to numpy 2D array:\")\n",
        "print(f\"{myNew2dArray}\\n\")\n",
        "\n",
        "# Demonstrating numpy's advanced indexing capabilities\n",
        "print(f\"Second row in numpy array: myNew2dArray[1][:]= {myNew2dArray[1][:]}\")\n",
        "print(f\"Second row in numpy array: myNew2dArray[1, :]= {myNew2dArray[1, :]}\")\n",
        "print(f\"Third column in numpy array: myNew2dArray[:, 2]= {myNew2dArray[:, 2]}\")\n",
        "print(f\"Top right 2x2 subarray:\")\n",
        "print(f\"myNew2dArray[:2, 1:] =\\n {myNew2dArray[:2, 1:]}\")\n"
      ]
    },
    {
      "cell_type": "markdown",
      "metadata": {
        "id": "Y5x9ejujw705"
      },
      "source": [
        "#### The following examples illustrate how to use boolean indexing to select elements from a numpy array\n"
      ]
    },
    {
      "cell_type": "code",
      "execution_count": 20,
      "metadata": {
        "colab": {
          "base_uri": "https://localhost:8080/"
        },
        "id": "WnEA_KJwxgX4",
        "outputId": "583bc76e-97d8-430c-93f2-e4f03210ed4b"
      },
      "outputs": [
        {
          "name": "stdout",
          "output_type": "stream",
          "text": [
            "New 2D Array:\n",
            "[[10 11 12 13]\n",
            " [14 15 16 17]\n",
            " [18 19 20 21]]\n",
            "Elements greater than 15:\n",
            "[16 17 18 19 20 21]\n",
            "Elements in the first row less than 13:\n",
            "[10 11 12]\n"
          ]
        }
      ],
      "source": [
        "# Creating a different numpy 2D array\n",
        "newArray = np.arange(10, 22).reshape(3, 4)\n",
        "print(f\"New 2D Array:\\n{newArray}\")\n",
        "\n",
        "# Boolean indexing to filter elements greater than 15\n",
        "greaterThan15 = newArray[newArray > 15]\n",
        "print(f\"Elements greater than 15:\\n{greaterThan15}\")\n",
        "\n",
        "# Boolean indexing on the first row for elements less than 13\n",
        "lessThan13FirstRow = newArray[0, newArray[0, :] < 13]\n",
        "print(f\"Elements in the first row less than 13:\\n{lessThan13FirstRow}\")\n"
      ]
    },
    {
      "cell_type": "markdown",
      "metadata": {
        "id": "m5MayZe4yF0f"
      },
      "source": [
        "#### More indexing examples.\n"
      ]
    },
    {
      "cell_type": "code",
      "execution_count": 21,
      "metadata": {
        "colab": {
          "base_uri": "https://localhost:8080/"
        },
        "id": "z5DS0d5UzRlR",
        "outputId": "ec283fec-dc17-47bf-c543-f9533c85a0cd"
      },
      "outputs": [
        {
          "name": "stdout",
          "output_type": "stream",
          "text": [
            "2D Array:\n",
            "[[10 11 12]\n",
            " [13 14 15]\n",
            " [16 17 18]\n",
            " [19 20 21]]\n",
            "Row indices for shuffling: [1, 3, 2, 0]\n",
            "\n",
            "Shuffled Rows:\n",
            "[[13 14 15]\n",
            " [19 20 21]\n",
            " [16 17 18]\n",
            " [10 11 12]]\n",
            "\n",
            "Row Indices: [3, 2, 1, 0, 0]\n",
            "Column Indices: [1, 2, 0, 1, 2]\n",
            "\n",
            "Selected Elements: [20 18 13 11 12]\n"
          ]
        }
      ],
      "source": [
        "# Creating a numpy 2D array with a different shape\n",
        "my2darr = np.arange(10, 22).reshape(4, 3)\n",
        "print(f\"2D Array:\\n{my2darr}\")\n",
        "\n",
        "# Shuffling rows using specified indices\n",
        "indices = [1, 3, 2, 0]\n",
        "print(f\"Row indices for shuffling: {indices}\\n\")\n",
        "shuffledRows = my2darr[indices, :]\n",
        "print(f\"Shuffled Rows:\\n{shuffledRows}\")\n",
        "\n",
        "# Selecting specific elements using row and column indices\n",
        "rowIndex = [3, 2, 1, 0, 0]\n",
        "columnIndex = [1, 2, 0, 1, 2]\n",
        "print(f\"\\nRow Indices: {rowIndex}\")\n",
        "print(f\"Column Indices: {columnIndex}\\n\")\n",
        "selectedElements = my2darr[rowIndex, columnIndex]\n",
        "print(f\"Selected Elements: {selectedElements}\")\n"
      ]
    },
    {
      "cell_type": "markdown",
      "metadata": {
        "id": "CrWlbrSH0qNG"
      },
      "source": [
        "### Numpy Arithmetic and Statistical Functions\n",
        "\n",
        "The following examples illustrate the use of numpy functions for basic arithmetic operations on arrays and performing common statistical calculations.\n"
      ]
    },
    {
      "cell_type": "code",
      "execution_count": 22,
      "metadata": {
        "colab": {
          "base_uri": "https://localhost:8080/"
        },
        "id": "uViuZ3Uh0yrY",
        "outputId": "9f185600-3991-455d-98bc-f9fc15f56230"
      },
      "outputs": [
        {
          "name": "stdout",
          "output_type": "stream",
          "text": [
            "Array z: [ 2.5 -1.7  3.3 -4.4  5.1]\n",
            "\n",
            "Absolute values: np.abs(z) = [2.5 1.7 3.3 4.4 5.1]\n",
            "Square roots: np.sqrt(np.abs(z)) = [1.58113883 1.30384048 1.81659021 2.0976177  2.25831796]\n",
            "Signs of z: np.sign(z) = [ 1. -1.  1. -1.  1.]\n",
            "Exponential function: np.exp(z) = [1.21824940e+01 1.82683524e-01 2.71126389e+01 1.22773399e-02\n",
            " 1.64021907e+02]\n",
            "Sorted array: np.sort(z) = [-4.4 -1.7  2.5  3.3  5.1]\n",
            "\n",
            "Array a: [-2. -1.  0.  1.  2.]\n",
            "Array b: [0.45968492 0.9839769  0.33984902 0.10569478 0.36379603]\n",
            "\n",
            "Element-wise addition: np.add(a, b) = [-1.54031508 -0.0160231   0.33984902  1.10569478  2.36379603]\n",
            "Element-wise subtraction: np.subtract(a, b) = [-2.45968492 -1.9839769  -0.33984902  0.89430522  1.63620397]\n",
            "Element-wise multiplication: np.multiply(a, b) = [-0.91936984 -0.9839769   0.          0.10569478  0.72759206]\n",
            "Element-wise division: np.divide(a, b) = [-4.35080618 -1.01628402  0.          9.46120537  5.49758613]\n",
            "Element-wise maximum: np.maximum(a, b) = [0.45968492 0.9839769  0.33984902 1.         2.        ]\n",
            "\n",
            "Array z: [ 4.5 -2.3  1.1  3.8 -4.6]\n",
            "\n",
            "Minimum value: np.min(z) = -4.6\n",
            "Maximum value: np.max(z) = 4.5\n",
            "Average value: np.mean(z) = 0.5\n",
            "Standard deviation: np.std(z) = 3.495711658589707\n",
            "Sum of elements: np.sum(z) = 2.5\n"
          ]
        }
      ],
      "source": [
        "z = np.array([2.5, -1.7, 3.3, -4.4, 5.1])\n",
        "print(f\"Array z: {z}\\n\")\n",
        "\n",
        "print(f\"Absolute values: np.abs(z) = {np.abs(z)}\")\n",
        "print(f\"Square roots: np.sqrt(np.abs(z)) = {np.sqrt(np.abs(z))}\")\n",
        "print(f\"Signs of z: np.sign(z) = {np.sign(z)}\")\n",
        "print(f\"Exponential function: np.exp(z) = {np.exp(z)}\")\n",
        "print(f\"Sorted array: np.sort(z) = {np.sort(z)}\\n\")\n",
        "\n",
        "a = np.linspace(-2, 2, 5)\n",
        "b = np.random.rand(5)\n",
        "print(f\"Array a: {a}\")\n",
        "print(f\"Array b: {b}\\n\")\n",
        "\n",
        "print(f\"Element-wise addition: np.add(a, b) = {np.add(a, b)}\")\n",
        "print(f\"Element-wise subtraction: np.subtract(a, b) = {np.subtract(a, b)}\")\n",
        "print(f\"Element-wise multiplication: np.multiply(a, b) = {np.multiply(a, b)}\")\n",
        "print(f\"Element-wise division: np.divide(a, b) = {np.divide(a, b)}\")\n",
        "print(f\"Element-wise maximum: np.maximum(a, b) = {np.maximum(a, b)}\\n\")\n",
        "\n",
        "z = np.array([4.5, -2.3, 1.1, 3.8, -4.6])\n",
        "print(f\"Array z: {z}\\n\")\n",
        "\n",
        "print(f\"Minimum value: np.min(z) = {np.min(z)}\")\n",
        "print(f\"Maximum value: np.max(z) = {np.max(z)}\")\n",
        "print(f\"Average value: np.mean(z) = {np.mean(z)}\")\n",
        "print(f\"Standard deviation: np.std(z) = {np.std(z)}\")\n",
        "print(f\"Sum of elements: np.sum(z) = {np.sum(z)}\")\n"
      ]
    },
    {
      "cell_type": "markdown",
      "metadata": {
        "id": "-XPqPMez3v17"
      },
      "source": [
        "### Numpy linear algebra\n",
        "\n",
        "The following examples illustrate various linear algebra operations in numpy\n"
      ]
    },
    {
      "cell_type": "code",
      "execution_count": 23,
      "metadata": {
        "colab": {
          "base_uri": "https://localhost:8080/"
        },
        "id": "OBOje5Wz37UZ",
        "outputId": "345ff9ed-7121-4e13-c67f-bf47c284bc9b"
      },
      "outputs": [
        {
          "name": "stdout",
          "output_type": "stream",
          "text": [
            "Random matrix A:\n",
            "[[-0.03692565  0.65372974]\n",
            " [ 0.9970194   0.64089616]\n",
            " [ 0.54892701 -1.78855203]]\n",
            "\n",
            "Transpose of A, A.T:\n",
            "[[-0.03692565  0.9970194   0.54892701]\n",
            " [ 0.65372974  0.64089616 -1.78855203]]\n",
            "\n",
            "Random vector z: [-2.53041673 -1.38102942]\n",
            "\n",
            "Matrix-vector multiplication A.dot(z):\n",
            "[-0.80938273 -3.40797102  1.08102887]\n",
            "\n",
            "Matrix-matrix product A.dot(A.T):\n",
            "[[ 0.42872607  0.38215729 -1.18949913]\n",
            " [ 0.38215729  1.40479557 -0.59898524]\n",
            " [-1.18949913 -0.59898524  3.50023922]]\n",
            "\n",
            "A.T.dot(A):\n",
            "[[ 1.29673205 -0.36693802]\n",
            " [-0.36693802  4.0370288 ]]\n",
            "\n",
            "Square matrix B:\n",
            "[[ 0.58821354  0.1942469  -0.08468344 -0.91075087]\n",
            " [ 1.53574123 -1.35067347 -0.9382592   1.15773478]\n",
            " [-0.937361   -0.93792426  0.56961653 -0.4120814 ]\n",
            " [-0.11389712 -0.11234214  0.26578187 -0.74155264]]\n",
            "Inverse of B:\n",
            "[[ -5.61269469   1.11919995  -4.08069682  10.90830518]\n",
            " [ -0.58837241  -0.26553131  -0.90263387   0.80965861]\n",
            " [-12.84835692   1.76759412  -7.95660092  22.96104645]\n",
            " [ -3.65380873   0.50185402  -2.08823585   5.08291152]]\n",
            "\n",
            "Determinant of B: -0.14560183775440866\n",
            "Eigenvalues of B:\n",
            "[ 1.38304667 -1.79419299 -0.16277387 -0.36047585]\n",
            "Eigenvectors of B:\n",
            "[[-0.35559121 -0.06186717 -0.40964994  0.37781133]\n",
            " [-0.42083929  0.9355742  -0.13294965  0.25832525]\n",
            " [ 0.82199241  0.34762682 -0.85579678  0.80680173]\n",
            " [ 0.14414458  0.00538172 -0.28657144  0.37362768]]\n"
          ]
        }
      ],
      "source": [
        "# Creating a different random matrix\n",
        "A = np.random.randn(3, 2)\n",
        "print(f\"Random matrix A:\\n{A}\\n\")\n",
        "print(f\"Transpose of A, A.T:\\n{A.T}\\n\")  # Transpose of A\n",
        "\n",
        "# Creating another random vector\n",
        "z = np.random.randn(2)\n",
        "print(f\"Random vector z: {z}\\n\")\n",
        "\n",
        "# Matrix-vector multiplication\n",
        "print(\"Matrix-vector multiplication A.dot(z):\")\n",
        "print(f\"{A.dot(z)}\\n\")\n",
        "\n",
        "# Matrix-matrix multiplication\n",
        "print(\"Matrix-matrix product A.dot(A.T):\")\n",
        "print(f\"{A.dot(A.T)}\")\n",
        "print(f\"\\nA.T.dot(A):\\n{A.T.dot(A)}\")\n",
        "\n",
        "# Creating a square matrix\n",
        "B = np.random.randn(4, 4)\n",
        "print(f\"\\nSquare matrix B:\\n{B}\")\n",
        "\n",
        "# Inverse of the square matrix\n",
        "invB = np.linalg.inv(B)\n",
        "print(f\"Inverse of B:\\n{invB}\\n\")\n",
        "\n",
        "# Determinant of the square matrix\n",
        "detB = np.linalg.det(B)\n",
        "print(f\"Determinant of B: {detB}\")\n",
        "\n",
        "# Eigenvalues and eigenvectors of the square matrix\n",
        "eigenvalues, eigenvectors = np.linalg.eig(B)\n",
        "print(f\"Eigenvalues of B:\\n{eigenvalues}\")\n",
        "print(f\"Eigenvectors of B:\\n{eigenvectors}\")\n"
      ]
    }
  ],
  "metadata": {
    "colab": {
      "provenance": []
    },
    "kernelspec": {
      "display_name": "Python 3",
      "name": "python3"
    },
    "language_info": {
      "name": "python"
    }
  },
  "nbformat": 4,
  "nbformat_minor": 0
}
