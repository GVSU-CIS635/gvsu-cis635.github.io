{
  "cells": [
    {
      "cell_type": "markdown",
      "metadata": {
        "id": "L7etFWSfZ5E5"
      },
      "source": [
        "# Introduction to Python\n",
        "\n",
        "**Objective**: Understand the basics of Python programming and its application in data analysis.\n",
        "\n",
        "Python is a high-level programming language renowned for its extensive libraries that greatly facilitate data analysis tasks. To execute code in this notebook, select each cell and press SHIFT-ENTER.\n",
        "\n",
        "Key Features of Python:\n",
        "\n",
        "- **Dynamic Typing**: Unlike Java or C++, Python does not require explicit type declarations.\n",
        "- **Indentation-based Structure**: Code blocks are structured through indentation, not curly braces `{}`.\n",
        "- **Comments**: Use `#` for single-line comments and triple quotes `'''` for multi-line comments or documentation.\n",
        "- **Reference-based Variable Assignment**: Variables and function arguments in Python are references, influencing the original objects.\n",
        "- **Null Value Representation**: `None` signifies a null value. Python does not require semicolons to terminate statements.\n",
        "- **Importing Modules**: External Python files can be integrated using the `import` command, akin to Java's import or C's include.\n"
      ]
    },
    {
      "cell_type": "markdown",
      "metadata": {
        "id": "MyEhTzc3oBjH"
      },
      "source": [
        "## Elementary Data Types\n",
        "\n",
        "Python's standard library supports various elementary data types essential for programming. These include integers, booleans, floating points, and strings. Below is a summary of these data types with examples:\n",
        "\n",
        "| &nbsp; |   Data Type    | Example                  |\n",
        "| :----- | :------------: | :----------------------- |\n",
        "| Number |    Integer     | x = 4                    |\n",
        "| &nbsp; | Floating point | x = 3.14159              |\n",
        "| &nbsp; |    Boolean     | x = True                 |\n",
        "| Text   |     String     | x = \"this\" or x = 'this' |\n"
      ]
    },
    {
      "cell_type": "code",
      "execution_count": null,
      "metadata": {
        "colab": {
          "base_uri": "https://localhost:8080/"
        },
        "id": "VZ_qy8LVZ2Ub",
        "outputId": "246cd7df-6d9e-4aa0-a106-0018e1012a6a"
      },
      "outputs": [
        {
          "name": "stdout",
          "output_type": "stream",
          "text": [
            "10 <class 'int'>\n",
            "False <class 'bool'>\n",
            "4.56 <class 'float'>\n",
            "Hello, Python! <class 'str'>\n"
          ]
        }
      ],
      "source": [
        "num = 10             # Integer\n",
        "print(num, type(num))\n",
        "\n",
        "flag = False         # Boolean\n",
        "print(flag, type(flag))\n",
        "\n",
        "flt = 4.56           # Floating point\n",
        "print(flt, type(flt))\n",
        "\n",
        "txt = \"Hello, Python!\"  # String\n",
        "print(txt, type(txt))\n"
      ]
    },
    {
      "cell_type": "markdown",
      "metadata": {
        "id": "0AIasQ-fqF93"
      },
      "source": [
        "The following examples illustrate various arithmetic operations on integers and floating-point numbers in Python\n"
      ]
    },
    {
      "cell_type": "code",
      "execution_count": null,
      "metadata": {
        "colab": {
          "base_uri": "https://localhost:8080/"
        },
        "id": "rAc9KzKcZiU-",
        "outputId": "1161d03f-f822-46cd-9dfb-ac9531e39a06"
      },
      "outputs": [
        {
          "name": "stdout",
          "output_type": "stream",
          "text": [
            "18 8 10 9 18 0\n",
            "2.5 1.5 1.25 1.0 6.25\n",
            "2.5 6.25 2 2\n"
          ]
        }
      ],
      "source": [
        "a = 5            # Integer\n",
        "a1 = a + 3       # Addition\n",
        "a2 = a * 2       # Multiplication\n",
        "a += 4           # Equivalent to a = a + 4\n",
        "a3 = a\n",
        "a *= 2           # Equivalent to a = a * 2\n",
        "a4 = a\n",
        "a5 = a % 3       # Modulo (remainder) operator\n",
        "\n",
        "b = 2.5          # Floating point number\n",
        "b1 = b - 1       # Subtraction\n",
        "b2 = b / 2       # Division\n",
        "b3 = b // 2      # Integer division\n",
        "b4 = b ** 2      # Square of b\n",
        "b5 = b4 ** 0.5   # Square root\n",
        "b6 = pow(b,2)    # Equivalent to square of b\n",
        "b7 = round(b)    # Rounding b to its nearest integer\n",
        "b8 = int(b)      # Type casting float to int\n",
        "\n",
        "print(a,a1,a2,a3,a4,a5)\n",
        "print(b,b1,b2,b3,b4)\n",
        "print(b5,b6,b7,b8)"
      ]
    },
    {
      "cell_type": "markdown",
      "metadata": {
        "id": "JMwHRwQWaUe7"
      },
      "source": [
        "The following examples demonstrate a range of mathematical operations like square root, power, exponential, logarithmic, trigonometric, and other functions available in the math module, as well as special cases like NaN (Not a Number) and infinity.\n"
      ]
    },
    {
      "cell_type": "code",
      "execution_count": null,
      "metadata": {
        "colab": {
          "base_uri": "https://localhost:8080/"
        },
        "id": "EPIMwCMkaa98",
        "outputId": "fb8f103b-e68f-4af6-c119-7a031c7f6767"
      },
      "outputs": [
        {
          "name": "stdout",
          "output_type": "stream",
          "text": [
            "3.0\n",
            "81.0\n",
            "8103.083927575384\n",
            "2.0\n",
            "9.0\n",
            "362880\n",
            "1\n",
            "0\n",
            "0\n",
            "-2.4492935982947064e-16\n",
            "0.9999930253396107\n",
            "True\n",
            "True\n"
          ]
        }
      ],
      "source": [
        "import math\n",
        "\n",
        "a = 9\n",
        "print(math.sqrt(a))      # sqrt(9) = 3\n",
        "print(math.pow(a, 2))    # 9**2 = 81\n",
        "print(math.exp(a))       # exp(9)\n",
        "print(math.log(a, 3))    # log base 3\n",
        "print(math.fabs(-9))     # absolute value\n",
        "print(math.factorial(a)) # 9! = 9 x 8 x 7 x 6 x 5 x 4 x 3 x 2 x 1\n",
        "\n",
        "b = 0.5\n",
        "print(math.ceil(b))      # ceiling function\n",
        "print(math.floor(b))     # floor function\n",
        "print(math.trunc(b))     # truncate function\n",
        "\n",
        "b = 2 * math.pi          # math.pi = 3.141592653589793\n",
        "print(math.sin(b))       # sine function\n",
        "print(math.tanh(b))      # hyperbolic tangent function\n",
        "\n",
        "a = math.nan             # not a number\n",
        "print(math.isnan(a))\n",
        "\n",
        "a = math.inf             # infinity\n",
        "print(math.isinf(a))"
      ]
    },
    {
      "cell_type": "markdown",
      "metadata": {
        "id": "jjIXcyjWa-NM"
      },
      "source": [
        "The following examples demonstrate how to use basic logical operators like AND, OR, and NOT with boolean values.\n"
      ]
    },
    {
      "cell_type": "code",
      "execution_count": null,
      "metadata": {
        "colab": {
          "base_uri": "https://localhost:8080/"
        },
        "id": "1u5AMfsWa98E",
        "outputId": "c46763ca-1f5b-46d2-9dce-c910bb2f8c2f"
      },
      "outputs": [
        {
          "name": "stdout",
          "output_type": "stream",
          "text": [
            "False\n",
            "True\n",
            "True\n"
          ]
        }
      ],
      "source": [
        "a = True\n",
        "b = False\n",
        "\n",
        "print(a and b)        # logical AND\n",
        "print(a or b)         # logical OR\n",
        "print(a and not b)    # combining AND and NOT\n"
      ]
    },
    {
      "cell_type": "markdown",
      "metadata": {
        "id": "dEih-KdTa_lw"
      },
      "source": [
        "The following examples illustrate various string manipulation techniques in Python, such as slicing, length calculation, case conversion, splitting, replacing, finding substrings, comparison, concatenation, and replication.\n"
      ]
    },
    {
      "cell_type": "code",
      "execution_count": null,
      "metadata": {
        "colab": {
          "base_uri": "https://localhost:8080/"
        },
        "id": "BfR3lQyRbetd",
        "outputId": "008796e3-d35a-42e3-97a6-2fa2b5774271"
      },
      "outputs": [
        {
          "name": "stdout",
          "output_type": "stream",
          "text": [
            "ello\n",
            "5\n",
            "Length of string is 5\n",
            "HELLO\n",
            "hello\n",
            "World\n",
            "Hello Everyone\n",
            "6\n",
            "True\n",
            "True\n",
            "True\n",
            "Hello World from Python\n",
            "Hello Hello Hello \n"
          ]
        }
      ],
      "source": [
        "str1 = \"Hello\"\n",
        "\n",
        "print(str1[1:])                  # Print all characters except the first\n",
        "print(len(str1))                 # Get the string length\n",
        "print(\"Length of string is \" + str(len(str1))) # Type casting int to str\n",
        "print(str1.upper())              # Convert to upper case\n",
        "print(str1.lower())              # Convert to lower case\n",
        "\n",
        "str2 = \"Hello World\"\n",
        "words = str2.split(' ')          # Split the string into words\n",
        "print(words[1])\n",
        "print(str2.replace('World','Everyone')) # Replace \"World\" with \"Everyone\"\n",
        "print(str2.find(\"W\"))            # Find the position of \"W\" in str2\n",
        "print(str1 in str2)              # Check if str1 is a substring of str2\n",
        "\n",
        "print(str1 == 'Hello')           # Equality comparison\n",
        "print(str1 < 'Help')             # Inequality comparison\n",
        "print(str2 + \" from Python\")     # String concatenation\n",
        "print((str1 + \" \")* 3)           # Replicate the string 3 times\n"
      ]
    },
    {
      "cell_type": "markdown",
      "metadata": {
        "id": "PwdHeesabn6z"
      },
      "source": [
        "## Compound Data Types\n",
        "\n",
        "The following examples demonstrate various list operations in Python such as accessing elements, slicing, appending, popping, concatenating, replicating, sorting, and joining elements into a string.\n"
      ]
    },
    {
      "cell_type": "code",
      "execution_count": null,
      "metadata": {
        "id": "gFxBB3fMclPp"
      },
      "outputs": [],
      "source": [
        "numList = [2, 4, 6, 8, 10]\n",
        "print(type(numList))\n",
        "print(numList)\n",
        "numList2 = list(range(1, 10, 2))  # range[startvalue, endvalue, stepsize]\n",
        "print(numList2)\n",
        "print(numList[2])                # Get the third element of the list\n",
        "print(numList[:2])               # Get the first two elements\n",
        "print(numList[2:])               # Get the last three elements\n",
        "print(len(numList))              # Number of elements in the list\n",
        "print(sum(numList))              # Sum of elements in the list\n",
        "\n",
        "numList.append(12)               # Append 12 to end of the list\n",
        "print(numList)\n",
        "print(numList.pop())             # Remove last element\n",
        "print(numList)\n",
        "print(numList + [14, 16, 18])    # Concatenate two lists\n",
        "print(numList * 2)               # Replicate the list\n",
        "numList.insert(1, 3)             # Insert item 3 at index 1\n",
        "print(numList)\n",
        "numList.sort(reverse=True)       # Sort in descending order\n",
        "print(numList)\n",
        "\n",
        "wordList = ['hello', 'world', 'in', 'a', 'list']\n",
        "print(wordList)\n",
        "print(type(wordList))\n",
        "\n",
        "print(\"list\" in wordList)        # Check if \"list\" is in wordList\n",
        "print(wordList[2])               # Show the 3rd element\n",
        "print(wordList[:2])              # Show the first two elements\n",
        "print(wordList[2:])              # Show the last two elements\n",
        "wordList.append(\"indeed\")        # Append element to end\n",
        "\n",
        "separator = \" \"\n",
        "print(separator.join(wordList))  # Merge elements into a string\n",
        "\n",
        "wordList.remove(\"world\")         # Remove element\n",
        "print(wordList)\n"
      ]
    },
    {
      "cell_type": "markdown",
      "metadata": {
        "id": "-AT4e8qidxcG"
      },
      "source": [
        "The following examples illustrate various dictionary operations in Python, such as adding key-value pairs, accessing keys and values, checking for the presence of keys, zipping two lists into a dictionary, and sorting a dictionary by keys or values.\n"
      ]
    },
    {
      "cell_type": "code",
      "execution_count": null,
      "metadata": {
        "colab": {
          "base_uri": "https://localhost:8080/"
        },
        "id": "r5sLMqVLdwX-",
        "outputId": "9cafb579-40a1-440c-8a13-6f7e6b19ea71"
      },
      "outputs": [
        {
          "name": "stdout",
          "output_type": "stream",
          "text": [
            "{'1984': 4.5, 'To Kill a Mockingbird': 4.8, 'The Great Gatsby': 4.7, 'Pride and Prejudice': 4.6}\n",
            "dict_keys(['1984', 'To Kill a Mockingbird', 'The Great Gatsby', 'Pride and Prejudice'])\n",
            "dict_values([4.5, 4.8, 4.7, 4.6])\n",
            "4\n",
            "4.5\n",
            "False\n",
            "True\n",
            "{'Sci-Fi': 'Dune', 'Drama': 'Hamlet', 'Fiction': '1984', 'Romance': 'Pride and Prejudice'}\n",
            "['Drama', 'Fiction', 'Romance', 'Sci-Fi']\n",
            "start\n",
            "[('Drama', 'Hamlet'), ('Fiction', '1984'), ('Romance', 'Pride and Prejudice'), ('Sci-Fi', 'Dune')]\n",
            "[('Drama', 'Hamlet'), ('Fiction', '1984'), ('Romance', 'Pride and Prejudice'), ('Sci-Fi', 'Dune')]\n",
            "[('Fiction', '1984'), ('Sci-Fi', 'Dune'), ('Drama', 'Hamlet'), ('Romance', 'Pride and Prejudice')]\n",
            "[('Fiction', '1984'), ('Sci-Fi', 'Dune'), ('Drama', 'Hamlet'), ('Romance', 'Pride and Prejudice')]\n"
          ]
        }
      ],
      "source": [
        "bookRatings = {}\n",
        "bookRatings['1984'] = 4.5\n",
        "bookRatings['To Kill a Mockingbird'] = 4.8\n",
        "bookRatings['The Great Gatsby'] = 4.7\n",
        "bookRatings['Pride and Prejudice'] = 4.6\n",
        "\n",
        "print(bookRatings)\n",
        "print(bookRatings.keys())          # Get the keys of the dictionary\n",
        "print(bookRatings.values())        # Get the values of the dictionary\n",
        "print(len(bookRatings))            # Get number of key-value pairs\n",
        "\n",
        "print(bookRatings.get('1984'))\n",
        "print(\"Moby Dick\" in bookRatings)\n",
        "print(\"The Great Gatsby\" in bookRatings)\n",
        "\n",
        "genres = ['Sci-Fi', 'Drama', 'Fiction', 'Romance']\n",
        "books = ['Dune', 'Hamlet', '1984', 'Pride and Prejudice']\n",
        "genreDict = dict(zip(genres, books))\n",
        "print(genreDict)\n",
        "print(sorted(genreDict))          # Sort keys of dictionary\n",
        "\n",
        "print(sorted(genreDict.items(), key=lambda item: item[0]))   # Sort by key\n",
        "print(sorted(genreDict.items(), key=lambda item: item[1]))  # Sort by value\n"
      ]
    },
    {
      "cell_type": "markdown",
      "metadata": {
        "id": "CPa3FJ4ggCzN"
      },
      "source": [
        "The examples below demonstrate the creation and use of tuple objects. Tuples, distinct from lists, are immutable, meaning they can't be altered once they're created.\n"
      ]
    },
    {
      "cell_type": "code",
      "execution_count": null,
      "metadata": {
        "colab": {
          "base_uri": "https://localhost:8080/"
        },
        "id": "-c2y9ocNgtHJ",
        "outputId": "2ceabd22-4971-4a04-e7cc-bb937596898b"
      },
      "outputs": [
        {
          "name": "stdout",
          "output_type": "stream",
          "text": [
            "('Dog', 'Canine', 'Bark')\n",
            "('Canine', 'Bark')\n",
            "[('Dog', 'Canine', 'Bark'), ('Bird', 'Avian', 'Chirp'), ('Fish', 'Aquatic', 'Swim')]\n",
            "('Bird', 'Avian', 'Chirp')\n",
            "('Bird', 'Avian', 'Chirp')\n",
            "('Avian', 'Chirp')\n",
            "[('Dog', 'Canine', 'Bark'), ('Bird', 'Avian', 'Chirp'), ('Fish', 'Aquatic', 'Swim')]\n"
          ]
        }
      ],
      "source": [
        "AnimalTuple = ('Dog', 'Canine', 'Bark')\n",
        "BirdTuple = ('Bird', 'Avian', 'Chirp')\n",
        "FishTuple = ('Fish', 'Aquatic', 'Swim')\n",
        "\n",
        "print(AnimalTuple)\n",
        "print(AnimalTuple[1:])\n",
        "\n",
        "creatures = [AnimalTuple, BirdTuple, FishTuple]    # This will create a list of tuples\n",
        "print(creatures)\n",
        "print(creatures[1])\n",
        "print(creatures[1][:])\n",
        "print(creatures[1][1:])\n",
        "\n",
        "creatures.sort(key=lambda creature: creature[2])  # Sort the creatures by their third attribute\n",
        "print(creatures)"
      ]
    },
    {
      "cell_type": "markdown",
      "metadata": {
        "id": "S8NyJBZDo2Xv"
      },
      "source": [
        "## Control Flow Statements\n",
        "\n",
        "The following examples illustrate the use of if-else statements, for loops with lists, tuples, dictionaries, and a while loop in Python. Each example demonstrates a common use case for these control flow statements.\n"
      ]
    },
    {
      "cell_type": "code",
      "execution_count": null,
      "metadata": {
        "colab": {
          "base_uri": "https://localhost:8080/"
        },
        "id": "37ADYXI4o_pN",
        "outputId": "9c2b8a12-ffd6-4fb0-9efe-2678d1d8e325"
      },
      "outputs": [
        {
          "name": "stdout",
          "output_type": "stream",
          "text": [
            "========== Using if-else statement ==========\n",
            "x = 7 is not divisible by 3\n",
            "x = 7 is greater than 5\n",
            "========== Using For Loop with a List ==========\n",
            "APPLE\n",
            "BANANA\n",
            "CHERRY\n",
            "[5, 6, 6]\n",
            "========== Using For Loop with List of Tuples ==========\n",
            "['CA', 'IL', 'NY']\n",
            "========== Using For Loop with Dictionary ==========\n",
            "['red', 'blue', 'green']\n",
            "========== Using While Loop ==========\n",
            "[-3, -2, -1, 0, 1, 2]\n",
            "First non-negative number: 0\n"
          ]
        }
      ],
      "source": [
        "print(\"========== Using if-else statement ==========\")\n",
        "x = 7\n",
        "if x % 3 == 0:\n",
        "    print(\"x =\", x, \"is divisible by 3\")\n",
        "else:\n",
        "    print(\"x =\", x, \"is not divisible by 3\")\n",
        "\n",
        "if x > 5:\n",
        "    print(\"x =\", x, \"is greater than 5\")\n",
        "elif x < 5:\n",
        "    print(\"x =\", x, \"is less than 5\")\n",
        "else:\n",
        "    print(\"x =\", x, \"is 5\")\n",
        "\n",
        "print(\"========== Using For Loop with a List ==========\")\n",
        "\n",
        "fruits = ['apple', 'banana', 'cherry']\n",
        "for fruit in fruits:\n",
        "    print(fruit.upper())\n",
        "\n",
        "fruit_lengths = [len(fruit) for fruit in fruits]\n",
        "print(fruit_lengths)\n",
        "\n",
        "print(\"========== Using For Loop with List of Tuples ==========\")\n",
        "\n",
        "cities = [('New York', 'NY'), ('Los Angeles', 'CA'), ('Chicago', 'IL')]\n",
        "sorted_states = [city[1] for city in cities]\n",
        "sorted_states.sort()\n",
        "print(sorted_states)\n",
        "\n",
        "print(\"========== Using For Loop with Dictionary ==========\")\n",
        "\n",
        "colors = {'red': 3, 'blue': 4, 'green': 2}\n",
        "color_names = [k for (k, v) in colors.items()]\n",
        "print(color_names)\n",
        "\n",
        "print(\"========== Using While Loop ==========\")\n",
        "\n",
        "numbers = list(range(-3, 3))\n",
        "print(numbers)\n",
        "\n",
        "i = 0\n",
        "while numbers[i] < 0:\n",
        "    i += 1\n",
        "\n",
        "print(\"First non-negative number:\", numbers[i])\n"
      ]
    },
    {
      "cell_type": "markdown",
      "metadata": {
        "id": "1h3gJNzspNbF"
      },
      "source": [
        "## Functions\n",
        "\n",
        "The following examples, the lambda function creates a simple unnamed function for a quadratic equation, and the filter_odds function demonstrates a more complex operation with an optional sorting feature.\n"
      ]
    },
    {
      "cell_type": "code",
      "execution_count": null,
      "metadata": {
        "colab": {
          "base_uri": "https://localhost:8080/"
        },
        "id": "gMnN-K7up_eM",
        "outputId": "d505a666-446a-4bbf-9130-167730150544"
      },
      "outputs": [
        {
          "name": "stdout",
          "output_type": "stream",
          "text": [
            "18\n",
            "[2, 4, 6]\n"
          ]
        }
      ],
      "source": [
        "# Example of an unnamed function using lambda\n",
        "square_func = lambda x: x**2 + 5*x - 6\n",
        "\n",
        "print(square_func(3))\n",
        "\n",
        "import math\n",
        "\n",
        "# Function to filter out odd numbers and optionally sort the list\n",
        "def filter_odds(inlist, sortFlag=False):\n",
        "    outlist = [item for item in inlist if item % 2 == 0]\n",
        "\n",
        "    if sortFlag:\n",
        "        outlist.sort()\n",
        "    return outlist\n",
        "\n",
        "mylist = [3, 4, 2, 7, 6, 9]\n",
        "\n",
        "print(filter_odds(mylist, True))\n"
      ]
    },
    {
      "cell_type": "markdown",
      "metadata": {
        "id": "mbg6F_jPqTTo"
      },
      "source": [
        "## File I/O\n",
        "\n",
        "In this example, a list of tuples containing state abbreviations, state names, and their capitals is written to a file and then read from the file. The read data is processed and printed in a formatted manner.\n"
      ]
    },
    {
      "cell_type": "code",
      "execution_count": null,
      "metadata": {
        "colab": {
          "base_uri": "https://localhost:8080/"
        },
        "id": "xqzn1tvJqpl3",
        "outputId": "f3758fdc-4383-4a0b-b53d-b2b634c428a3"
      },
      "outputs": [
        {
          "name": "stdout",
          "output_type": "stream",
          "text": [
            "Book: 1984 - Author: George Orwell - Year: 1949\n",
            "Book: To Kill a Mockingbird - Author: Harper Lee - Year: 1960\n",
            "Book: The Great Gatsby - Author: F. Scott Fitzgerald - Year: 1925\n",
            "Book: Pride and Prejudice - Author: Jane Austen - Year: 1813\n"
          ]
        }
      ],
      "source": [
        "# Data to be written to a file\n",
        "books = [('1984', 'George Orwell', '1949'), ('To Kill a Mockingbird', 'Harper Lee', '1960'),\n",
        "         ('The Great Gatsby', 'F. Scott Fitzgerald', '1925'), ('Pride and Prejudice', 'Jane Austen', '1813')]\n",
        "\n",
        "# Writing data to a file\n",
        "with open('books.txt', 'w') as file:\n",
        "    for book in books:\n",
        "        file.write(','.join(book) + '\\n')\n",
        "\n",
        "# Reading data from the file and processing it\n",
        "with open('books.txt', 'r') as file:\n",
        "    for line in file:\n",
        "        fields = line.strip().split(',')\n",
        "        print(f\"Book: {fields[0]} - Author: {fields[1]} - Year: {fields[2]}\")\n"
      ]
    }
  ],
  "metadata": {
    "colab": {
      "provenance": []
    },
    "kernelspec": {
      "display_name": "Python 3",
      "name": "python3"
    },
    "language_info": {
      "name": "python"
    }
  },
  "nbformat": 4,
  "nbformat_minor": 0
}
