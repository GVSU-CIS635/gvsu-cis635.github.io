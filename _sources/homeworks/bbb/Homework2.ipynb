{
  "nbformat": 4,
  "nbformat_minor": 0,
  "metadata": {
    "colab": {
      "provenance": []
    },
    "kernelspec": {
      "name": "python3",
      "display_name": "Python 3"
    },
    "language_info": {
      "name": "python"
    }
  },
  "cells": [
    {
      "cell_type": "markdown",
      "source": [
        "# Homework 2: Python Basics and Google Colab\n",
        "\n",
        "## Overview\n",
        "\n",
        "### Objectives\n",
        "- Develop your Python programming skills.\n",
        "- Gain hands-on experience with Google Colab.\n",
        "\n",
        "### Grading\n",
        "- **Colab Notebook (10%)**: Turn in your Colab notebook on Google Classroom and submit the Colab URL on Blackboard.\n",
        "- **Programming Questions (90%)**: Equal weightage for all questions, focusing on correctness and coding standards."
      ],
      "metadata": {
        "id": "x4bMOzyohu44"
      }
    },
    {
      "cell_type": "markdown",
      "source": [
        "\n",
        "### Sample Question:\n",
        "Calculate $\\sqrt{81}$ using the `math` module in Python:\n",
        "\n"
      ],
      "metadata": {
        "id": "GMpnnLvQuZQj"
      }
    },
    {
      "cell_type": "code",
      "source": [
        "# answer\n",
        "import math\n",
        "math.sqrt(81)"
      ],
      "metadata": {
        "colab": {
          "base_uri": "https://localhost:8080/"
        },
        "id": "28jISlmsuvp4",
        "outputId": "75fb0df3-a2a1-404f-d51b-22a78f41f783"
      },
      "execution_count": null,
      "outputs": [
        {
          "output_type": "execute_result",
          "data": {
            "text/plain": [
              "9.0"
            ]
          },
          "metadata": {},
          "execution_count": 3
        }
      ]
    },
    {
      "cell_type": "markdown",
      "source": [
        "\n",
        "\n",
        "\n",
        "## Part A. Elementary Data Types\n",
        "\n",
        "### Question 1.\n",
        "\n",
        " Create a Python dictionary named student with keys name, age, and course, and access the course value."
      ],
      "metadata": {
        "id": "rks8WCIQuuKg"
      }
    },
    {
      "cell_type": "code",
      "source": [
        "student = {\n",
        "    'name': 'Tom',\n",
        "    'age': 21,\n",
        "    'course': 'Computer Science'\n",
        "}\n",
        "print(student['course'])\n"
      ],
      "metadata": {
        "id": "UqRZjpX8lfM_",
        "colab": {
          "base_uri": "https://localhost:8080/"
        },
        "outputId": "8265b002-6e57-4fbf-af9c-3cef5de74022"
      },
      "execution_count": 1,
      "outputs": [
        {
          "output_type": "stream",
          "name": "stdout",
          "text": [
            "Computer Science\n"
          ]
        }
      ]
    },
    {
      "cell_type": "markdown",
      "source": [
        "### Question 2.\n",
        "Using Python, create a tuple with 5 elements."
      ],
      "metadata": {
        "id": "xju8uNm_lYye"
      }
    },
    {
      "cell_type": "code",
      "execution_count": 2,
      "metadata": {
        "id": "KmOLGm4ZhtqN",
        "colab": {
          "base_uri": "https://localhost:8080/"
        },
        "outputId": "cdf930eb-121f-432b-f215-39e93fa8a272"
      },
      "outputs": [
        {
          "output_type": "stream",
          "name": "stdout",
          "text": [
            "(5, 'student', 7.2, False, 'Q')\n"
          ]
        }
      ],
      "source": [
        "my_tuple = (5, 'student', 7.2 , False , 'Q')\n",
        "\n",
        "# Print the list\n",
        "print(my_tuple)\n"
      ]
    },
    {
      "cell_type": "markdown",
      "source": [
        "### Question 3.\n",
        "Write a Python expression to check if the number 7 is in the list [1, 2, 3, 4, 5]"
      ],
      "metadata": {
        "id": "BOxPUISnk7wn"
      }
    },
    {
      "cell_type": "code",
      "source": [
        "print(7 in [1,2,3,4,5])"
      ],
      "metadata": {
        "id": "_F5bRz3AlSUz",
        "colab": {
          "base_uri": "https://localhost:8080/"
        },
        "outputId": "3b1ad182-8750-4282-87cb-ec1b43db77a2"
      },
      "execution_count": 3,
      "outputs": [
        {
          "output_type": "stream",
          "name": "stdout",
          "text": [
            "False\n"
          ]
        }
      ]
    },
    {
      "cell_type": "markdown",
      "source": [
        "### Question 4.\n",
        "Split the string \"Welcome to Knowledge Discovery and Data Mining Class\" into words"
      ],
      "metadata": {
        "id": "ES-UN-O2lSpa"
      }
    },
    {
      "cell_type": "code",
      "source": [
        "words = \"Welcome to Knowledge Discovery and Data Mining Class\".split(\" \")\n",
        "print(words)"
      ],
      "metadata": {
        "id": "sMLP00vcl-jg",
        "colab": {
          "base_uri": "https://localhost:8080/"
        },
        "outputId": "98254b7a-b789-487c-9fbd-cb04d84c79fd"
      },
      "execution_count": 4,
      "outputs": [
        {
          "output_type": "stream",
          "name": "stdout",
          "text": [
            "['Welcome', 'to', 'Knowledge', 'Discovery', 'and', 'Data', 'Mining', 'Class']\n"
          ]
        }
      ]
    },
    {
      "cell_type": "markdown",
      "source": [
        "## Part B. Compound Data Types\n",
        "\n",
        "### Question 5.\n",
        "Write a Python code to append the number 9 to the existing list numbers = [1, 2, 3, 4, 5].\n"
      ],
      "metadata": {
        "id": "tV_dkHblmQIH"
      }
    },
    {
      "cell_type": "code",
      "source": [
        "numbers = [1, 2, 3, 4, 5]\n",
        "numbers.append(9)\n",
        "print(numbers)"
      ],
      "metadata": {
        "id": "Hzdzx77_mdpd",
        "colab": {
          "base_uri": "https://localhost:8080/"
        },
        "outputId": "013f1c98-a986-4adb-8968-deb50f2e1387"
      },
      "execution_count": 7,
      "outputs": [
        {
          "output_type": "stream",
          "name": "stdout",
          "text": [
            "[1, 2, 3, 4, 5, 9]\n"
          ]
        }
      ]
    },
    {
      "cell_type": "markdown",
      "source": [
        "### Question 6\n",
        "Concatenate two lists, list1 = [10, 20, 30] and list2 = [40, 50, 60].\n"
      ],
      "metadata": {
        "id": "YNTLwmfWmeii"
      }
    },
    {
      "cell_type": "code",
      "source": [
        "list1 = [10, 20, 30]\n",
        "list2 = [40, 50, 60]\n",
        "list3 = list1 + list2\n",
        "print(list3)"
      ],
      "metadata": {
        "id": "PauzLha7mlpl",
        "colab": {
          "base_uri": "https://localhost:8080/"
        },
        "outputId": "9fd41b1b-0ab7-4654-a5d3-e0cabccf1ef2"
      },
      "execution_count": 8,
      "outputs": [
        {
          "output_type": "stream",
          "name": "stdout",
          "text": [
            "[10, 20, 30, 40, 50, 60]\n"
          ]
        }
      ]
    },
    {
      "cell_type": "markdown",
      "source": [
        "## Part C. Arithmetic Operations\n",
        "\n",
        "### Question 7.\n",
        "Calculate the result of the expression $3^3 + 4^2 - 1$."
      ],
      "metadata": {
        "id": "9IIZECPBml5t"
      }
    },
    {
      "cell_type": "code",
      "source": [
        "result = 3**3 + 4**2 - 1\n",
        "print(result)\n"
      ],
      "metadata": {
        "id": "AZfgVbjJnUD4",
        "colab": {
          "base_uri": "https://localhost:8080/"
        },
        "outputId": "fbdab3b8-5ca5-4fcc-f1f0-f87ff750fd06"
      },
      "execution_count": 9,
      "outputs": [
        {
          "output_type": "stream",
          "name": "stdout",
          "text": [
            "42\n"
          ]
        }
      ]
    },
    {
      "cell_type": "markdown",
      "source": [
        "### Question 8.\n",
        "Find the result of dividing 22 by 7 and round it to 3 decimal places.\n"
      ],
      "metadata": {
        "id": "HXHJRmttnUby"
      }
    },
    {
      "cell_type": "code",
      "source": [
        "result = round(22 / 7, 3)\n",
        "print(result)\n"
      ],
      "metadata": {
        "id": "ZH25TG5I1CRc",
        "colab": {
          "base_uri": "https://localhost:8080/"
        },
        "outputId": "bc3ad23b-7b2f-4c04-9be4-acbea3bacd8b"
      },
      "execution_count": 10,
      "outputs": [
        {
          "output_type": "stream",
          "name": "stdout",
          "text": [
            "3.143\n"
          ]
        }
      ]
    },
    {
      "cell_type": "markdown",
      "source": [
        "### Question 9.\n",
        "\n",
        "Given two lists,\n",
        "\n",
        "- directors = ['Nolan', 'Tarantino', 'Spielberg', 'Scorsese'] and\n",
        "- movies = ['Inception', 'Pulp Fiction', 'Jurassic Park', 'Goodfellas'],\n",
        "\n",
        "use zip to create a dictionary where directors are keys and their respective movies are values. Then, write a Python code snippet to sort this dictionary by the movie titles (values) and print the sorted items"
      ],
      "metadata": {
        "id": "ftKD55OO1EjL"
      }
    },
    {
      "cell_type": "code",
      "source": [
        "directors = ['Nolan', 'Tarantino', 'Spielberg', 'Scorsese']\n",
        "movies = ['Inception', 'Pulp Fiction', 'Jurassic Park', 'Goodfellas']\n",
        "directors_movies_dict = dict(zip(directors, movies))\n",
        "print(sorted(directors_movies_dict.items(), key=lambda item: item[1]))"
      ],
      "metadata": {
        "id": "noLU62NB1-bK",
        "colab": {
          "base_uri": "https://localhost:8080/"
        },
        "outputId": "a1518403-d827-44ba-e286-efb480a589d4"
      },
      "execution_count": 11,
      "outputs": [
        {
          "output_type": "stream",
          "name": "stdout",
          "text": [
            "[('Scorsese', 'Goodfellas'), ('Nolan', 'Inception'), ('Spielberg', 'Jurassic Park'), ('Tarantino', 'Pulp Fiction')]\n"
          ]
        }
      ]
    },
    {
      "cell_type": "markdown",
      "source": [
        "### Question 10.\n",
        "Develop a Python function named filter_and_sort_by_char that takes a list of strings and a character as input, along with an optional boolean parameter sort_list. This function should filter the list to include only those strings that contain the specified character. If sort_list is set to True, the resulting list should be sorted alphabetically. If sort_list is False or not specified, the list should be returned as is (unsorted) but only with strings containing the specific character."
      ],
      "metadata": {
        "id": "IrM1Pkzz1-7Y"
      }
    },
    {
      "cell_type": "code",
      "source": [
        "def filter_and_sort_by_char(strings_list, char, sort_list=False):\n",
        "    # Filter strings that contain the specified character\n",
        "    filtered_list = [s for s in strings_list if char in s]\n",
        "\n",
        "    # Sort the list if sort_list is True\n",
        "    if sort_list:\n",
        "        filtered_list.sort()\n",
        "\n",
        "    return filtered_list\n",
        "\n",
        "# Example usage:\n",
        "books =[\"1984\",\"The Great Gatsby\",\"To Kill a Mockingbird\",\"Brave New World\",\"Pride and rejudice\"];\n",
        "character_to_filter = 'e'\n",
        "\n",
        "# Filter and sort the list by character\n",
        "result = filter_and_sort_by_char(books, character_to_filter, sort_list=True)\n",
        "\n",
        "# Print the result\n",
        "print(result)\n"
      ],
      "metadata": {
        "id": "cwc73YCp36RG",
        "colab": {
          "base_uri": "https://localhost:8080/"
        },
        "outputId": "2b57b6b2-80ff-4e42-db20-3762b815f4b7"
      },
      "execution_count": 13,
      "outputs": [
        {
          "output_type": "stream",
          "name": "stdout",
          "text": [
            "['Brave New World', 'Pride and rejudice', 'The Great Gatsby']\n"
          ]
        }
      ]
    }
  ]
}