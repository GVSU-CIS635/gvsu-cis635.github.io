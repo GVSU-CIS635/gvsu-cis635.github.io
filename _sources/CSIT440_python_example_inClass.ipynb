{
 "cells": [
  {
   "cell_type": "markdown",
   "id": "9dae9df6",
   "metadata": {},
   "source": [
    "## CSIT 440 Data Preprocessing Example in Python\n"
   ]
  },
  {
   "cell_type": "markdown",
   "id": "c8ff1dea",
   "metadata": {},
   "source": [
    "#### Recommended Online Book\n",
    "[Python Data Science Handbook](https://jakevdp.github.io/PythonDataScienceHandbook/index.html)"
   ]
  },
  {
   "cell_type": "code",
   "execution_count": null,
   "id": "e4a3934d",
   "metadata": {},
   "outputs": [],
   "source": [
    "import numpy as np\n",
    "import pandas as pd\n",
    "import matplotlib.pyplot as plt\n",
    "import seaborn as sns"
   ]
  },
  {
   "cell_type": "markdown",
   "id": "561e1912",
   "metadata": {},
   "source": [
    "### About the data set\n",
    "\n",
    "This file **Cars93.csv** contains the data set from the MASS package of R. It includes 93 rows and 27 columns. \n",
    "\n",
    "Cars were selected at random from among 1993 passenger car models that were listed in both the Consumer Reports issue and the PACE Buying Guide. Pickup trucks and Sport/Utility vehicles were eliminated due to incomplete information in the Consumer Reports source. Duplicate models (e.g., Dodge Shadow and Plymouth Sundance) were listed at most once. \n",
    "\n",
    "Source: \n",
    "Lock, R. H. (1993) 1993 New Car Data. Journal of Statistics Education 1(1). https://doi.org/10.1080/10691898.1993.11910459\n",
    "\n",
    "Semetics of the columns:\n",
    "\n",
    "1. Manufacturer.\n",
    "\n",
    "2. Model.\n",
    "\n",
    "3. Type: a factor with levels \"Small\", \"Sporty\", \"Compact\", \"Midsize\", \"Large\" and \"Van\".\n",
    "\n",
    "4. Min.Price: Minimum Price (in $1,000): price for a basic version.\n",
    "\n",
    "5. Price: Midrange Price (in $1,000): average of Min.Price and Max.Price.\n",
    "\n",
    "6. Max.Price: Maximum Price (in \\$1,000): price for “a premium version”.\n",
    "\n",
    "7. MPG.city: City MPG (miles per US gallon by EPA rating).\n",
    "\n",
    "8. MPG.highway: Highway MPG.\n",
    "\n",
    "9. AirBags: Air Bags standard. Factor: none, driver only, or driver & passenger.\n",
    "\n",
    "10. DriveTrain: Drive train type: rear wheel, front wheel or 4WD; (factor).\n",
    "\n",
    "11. Cylinders: Number of cylinders (missing for Mazda RX-7, which has a rotary engine).\n",
    "\n",
    "12. EngineSize: Engine size (litres).\n",
    "\n",
    "13. Horsepower: Horsepower (maximum).\n",
    "\n",
    "14. RPM: RPM (revs per minute at maximum horsepower).\n",
    "\n",
    "15. Rev.per.mile: Engine revolutions per mile (in highest gear).\n",
    "\n",
    "16. Man.trans.avail: Is a manual transmission version available? (yes or no, Factor).\n",
    "\n",
    "17. Fuel.tank.capacity: Fuel tank capacity (US gallons).\n",
    "\n",
    "18. Passengers: Passenger capacity (persons)\n",
    "\n",
    "19. Length: Length (inches).\n",
    "\n",
    "20. Wheelbase: Wheelbase (inches).\n",
    "\n",
    "21. Width: Width (inches).\n",
    "\n",
    "22. Turn.circle: U-turn space (feet).\n",
    "\n",
    "23. Rear.seat.room: Rear seat room (inches) (missing for 2-seater vehicles).\n",
    "\n",
    "24. Luggage.room: Luggage capacity (cubic feet) (missing for vans).\n",
    "\n",
    "25. Weight: Weight (pounds).\n",
    "\n",
    "26. Origin: Of non-USA or USA company origins? (factor).\n",
    "\n",
    "27. Make: Combination of Manufacturer and Model (character)."
   ]
  },
  {
   "cell_type": "markdown",
   "id": "b92dcc19",
   "metadata": {},
   "source": [
    "### 1. Data Loading\n",
    "Load **Cars93.csv** as a dataframe named ***cars***."
   ]
  },
  {
   "cell_type": "code",
   "execution_count": null,
   "id": "c520ae7d",
   "metadata": {
    "scrolled": true
   },
   "outputs": [],
   "source": []
  },
  {
   "cell_type": "markdown",
   "id": "4ed2257e",
   "metadata": {},
   "source": [
    "### 2. Descriptive Statistics\n",
    "Find the mean, median, maximum, minimum and standard deviation of **Max.Price**."
   ]
  },
  {
   "cell_type": "code",
   "execution_count": null,
   "id": "6602e370",
   "metadata": {},
   "outputs": [],
   "source": []
  },
  {
   "cell_type": "markdown",
   "id": "0675aefe",
   "metadata": {},
   "source": [
    "### 3. Data Selecting\n",
    "List all the records of compact cars. "
   ]
  },
  {
   "cell_type": "code",
   "execution_count": null,
   "id": "64fbbd03",
   "metadata": {
    "scrolled": true
   },
   "outputs": [],
   "source": []
  },
  {
   "cell_type": "markdown",
   "id": "7071a80e",
   "metadata": {},
   "source": [
    "List all the records of compact cars made by Ford. "
   ]
  },
  {
   "cell_type": "code",
   "execution_count": null,
   "id": "cafa8334",
   "metadata": {},
   "outputs": [],
   "source": []
  },
  {
   "cell_type": "code",
   "execution_count": null,
   "id": "c08a4f33",
   "metadata": {},
   "outputs": [],
   "source": []
  },
  {
   "cell_type": "markdown",
   "id": "6e029554",
   "metadata": {},
   "source": [
    "### 4. Data Normalization"
   ]
  },
  {
   "cell_type": "markdown",
   "id": "c4b0aa9e",
   "metadata": {},
   "source": [
    "#### Min_Max normalization\n",
    "In most cases, when you normalize data you eliminate the units of measurement for data, enabling you to more easily compare data from different places. Rescaling data to have values between 0 and 1 is usually called feature scaling. One possible formula to achieve this is:\n",
    "\n",
    "x_new = x - x_min / x_max - x_min"
   ]
  },
  {
   "cell_type": "markdown",
   "id": "fc721060",
   "metadata": {},
   "source": [
    "Normalize the range of feature **Length** between 0 and 1 so that the minimum has value 0 and maximum has value 1."
   ]
  },
  {
   "cell_type": "code",
   "execution_count": null,
   "id": "959e8ec9",
   "metadata": {},
   "outputs": [],
   "source": []
  },
  {
   "cell_type": "code",
   "execution_count": null,
   "id": "d5195c46",
   "metadata": {},
   "outputs": [],
   "source": []
  },
  {
   "cell_type": "markdown",
   "id": "054d2f63",
   "metadata": {},
   "source": [
    "### 5. Data Cleaning"
   ]
  },
  {
   "cell_type": "markdown",
   "id": "eaced00e",
   "metadata": {},
   "source": [
    "List the items in **cars** which have missing values in the column **Min.Price**."
   ]
  },
  {
   "cell_type": "code",
   "execution_count": null,
   "id": "638f9095",
   "metadata": {},
   "outputs": [],
   "source": []
  },
  {
   "cell_type": "markdown",
   "id": "e05ec223",
   "metadata": {},
   "source": [
    "Replace missing values in **Min.Price** with its respective average value."
   ]
  },
  {
   "cell_type": "code",
   "execution_count": null,
   "id": "a812d427",
   "metadata": {},
   "outputs": [],
   "source": []
  },
  {
   "cell_type": "markdown",
   "id": "7b2c16a7",
   "metadata": {},
   "source": [
    "Replace missing values in **Max.Price** with its respective median value."
   ]
  },
  {
   "cell_type": "code",
   "execution_count": null,
   "id": "a8550197",
   "metadata": {
    "scrolled": true
   },
   "outputs": [],
   "source": []
  },
  {
   "cell_type": "code",
   "execution_count": null,
   "id": "01412000",
   "metadata": {},
   "outputs": [],
   "source": []
  },
  {
   "cell_type": "code",
   "execution_count": null,
   "id": "957943d8",
   "metadata": {},
   "outputs": [],
   "source": []
  },
  {
   "cell_type": "markdown",
   "id": "5088ab18",
   "metadata": {},
   "source": [
    "### 6. Data Visualization\n",
    "We will exercise data visualization using the well-known Iris data set, which lists measurements of petals and sepals of three iris species."
   ]
  },
  {
   "cell_type": "code",
   "execution_count": null,
   "id": "da1fec3d",
   "metadata": {
    "scrolled": true
   },
   "outputs": [],
   "source": [
    "iris = sns.load_dataset(\"iris\")\n",
    "iris"
   ]
  },
  {
   "cell_type": "markdown",
   "id": "9402b690",
   "metadata": {},
   "source": [
    "Drop the column of **species**."
   ]
  },
  {
   "cell_type": "code",
   "execution_count": null,
   "id": "51cb9c15",
   "metadata": {},
   "outputs": [],
   "source": []
  },
  {
   "cell_type": "markdown",
   "id": "3ca36bd3",
   "metadata": {},
   "source": [
    "#### 6.1 Box Plot\n",
    "Use a box plot to display the distribution of each measurement in the dataframe features."
   ]
  },
  {
   "cell_type": "code",
   "execution_count": null,
   "id": "ea0f962f",
   "metadata": {
    "scrolled": true
   },
   "outputs": [],
   "source": []
  },
  {
   "cell_type": "markdown",
   "id": "4309feba",
   "metadata": {},
   "source": [
    "#### 6.2 Scatter Plot\n",
    "Display the scatter matrix and histograms of all the features in the dataframe features. Can you find any features in a positive correlation?"
   ]
  },
  {
   "cell_type": "code",
   "execution_count": null,
   "id": "c9b16669",
   "metadata": {
    "scrolled": true
   },
   "outputs": [],
   "source": []
  },
  {
   "cell_type": "markdown",
   "id": "2c125be2",
   "metadata": {},
   "source": [
    "#### 7. Correlation between Features\n",
    "Get the Pearson correlation between every two columns in **features**."
   ]
  },
  {
   "cell_type": "code",
   "execution_count": null,
   "id": "12b89446",
   "metadata": {
    "scrolled": true
   },
   "outputs": [],
   "source": []
  },
  {
   "cell_type": "markdown",
   "id": "45ce8084",
   "metadata": {},
   "source": [
    "### 8. Dim Reduction: PCA"
   ]
  },
  {
   "cell_type": "code",
   "execution_count": null,
   "id": "6e7091ab",
   "metadata": {},
   "outputs": [],
   "source": [
    "from sklearn.decomposition import PCA "
   ]
  },
  {
   "cell_type": "code",
   "execution_count": null,
   "id": "18153749",
   "metadata": {
    "scrolled": true
   },
   "outputs": [],
   "source": []
  },
  {
   "cell_type": "markdown",
   "id": "8eb4deb4",
   "metadata": {},
   "source": [
    "The fit learns some quantities from the data, most importantly \"explained variance\" which is the ammount of variance explained by each of the selected component. "
   ]
  },
  {
   "cell_type": "code",
   "execution_count": null,
   "id": "cb444481",
   "metadata": {},
   "outputs": [],
   "source": []
  },
  {
   "cell_type": "code",
   "execution_count": null,
   "id": "21260495",
   "metadata": {},
   "outputs": [],
   "source": []
  },
  {
   "cell_type": "markdown",
   "id": "6ef9ea5b",
   "metadata": {},
   "source": [
    "Get the transformed data with one feature"
   ]
  },
  {
   "cell_type": "code",
   "execution_count": null,
   "id": "e5197183",
   "metadata": {},
   "outputs": [],
   "source": []
  },
  {
   "cell_type": "markdown",
   "id": "9963a566",
   "metadata": {},
   "source": [
    "### 9. Binning and Histogram"
   ]
  },
  {
   "cell_type": "markdown",
   "id": "8a02f35c",
   "metadata": {},
   "source": [
    "#### 9.1 Equal-width Binning"
   ]
  },
  {
   "cell_type": "markdown",
   "id": "94222d31",
   "metadata": {},
   "source": [
    "The `cut` method for Pandas data splits the dataset into bins. There are a number of arguments for the method. The following code creates equal sized bins. The method `value_counts` returns a frequency table."
   ]
  },
  {
   "cell_type": "code",
   "execution_count": null,
   "id": "d86a672a",
   "metadata": {},
   "outputs": [],
   "source": []
  },
  {
   "cell_type": "code",
   "execution_count": null,
   "id": "1531b5ab",
   "metadata": {
    "scrolled": true
   },
   "outputs": [],
   "source": []
  },
  {
   "cell_type": "code",
   "execution_count": null,
   "id": "fb0de579",
   "metadata": {},
   "outputs": [],
   "source": []
  },
  {
   "cell_type": "markdown",
   "id": "71444f5c",
   "metadata": {},
   "source": [
    "Combine the binning data with the original data set"
   ]
  },
  {
   "cell_type": "code",
   "execution_count": null,
   "id": "8b60761f",
   "metadata": {
    "scrolled": true
   },
   "outputs": [],
   "source": []
  },
  {
   "cell_type": "markdown",
   "id": "75f506f7",
   "metadata": {},
   "source": [
    "Sort the data by the values in **Min.Price**."
   ]
  },
  {
   "cell_type": "code",
   "execution_count": null,
   "id": "bd8de104",
   "metadata": {},
   "outputs": [],
   "source": []
  },
  {
   "cell_type": "code",
   "execution_count": null,
   "id": "993ef7b0",
   "metadata": {},
   "outputs": [],
   "source": []
  },
  {
   "cell_type": "markdown",
   "id": "bbcce5dc",
   "metadata": {},
   "source": [
    "#### 9.2 Equal-depth Binning"
   ]
  },
  {
   "cell_type": "markdown",
   "id": "d490a381",
   "metadata": {},
   "source": [
    "The pandas documentation describes qcut as a “Quantile-based discretization function.” This basically means that qcut tries to divide up the underlying data into equal sized bins. The function defines the bins using percentiles based on the distribution of the data, not the actual numeric edges of the bins."
   ]
  },
  {
   "cell_type": "code",
   "execution_count": null,
   "id": "68c9c87a",
   "metadata": {},
   "outputs": [],
   "source": []
  },
  {
   "cell_type": "code",
   "execution_count": null,
   "id": "d2393842",
   "metadata": {},
   "outputs": [],
   "source": []
  },
  {
   "cell_type": "markdown",
   "id": "8c124fca",
   "metadata": {},
   "source": [
    "### 9.3 Histogram"
   ]
  },
  {
   "cell_type": "code",
   "execution_count": null,
   "id": "55bac095",
   "metadata": {},
   "outputs": [],
   "source": []
  },
  {
   "cell_type": "code",
   "execution_count": null,
   "id": "de53bf8c",
   "metadata": {},
   "outputs": [],
   "source": []
  }
 ],
 "metadata": {
  "kernelspec": {
   "display_name": "Python 3",
   "language": "python",
   "name": "python3"
  },
  "language_info": {
   "codemirror_mode": {
    "name": "ipython",
    "version": 3
   },
   "file_extension": ".py",
   "mimetype": "text/x-python",
   "name": "python",
   "nbconvert_exporter": "python",
   "pygments_lexer": "ipython3",
   "version": "3.7.10"
  }
 },
 "nbformat": 4,
 "nbformat_minor": 5
}
