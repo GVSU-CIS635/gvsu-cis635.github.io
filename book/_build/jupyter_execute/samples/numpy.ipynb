{
 "cells": [
  {
   "cell_type": "markdown",
   "metadata": {
    "id": "gsx3fi_zzx5D"
   },
   "source": [
    "# Introduction to Numpy\n",
    "\n",
    "**Objective**: Gain practical skills in manipulating and analyzing data using Numpy, one of Python's most powerful libraries for data science.\n",
    "\n",
    "This tutorial includes step-by-step examples to familiarize you with the essential functionalities of Numpy. Each example is designed to demonstrate key concepts and techniques for data analysis. To execute the code, select the cell and press SHIFT-ENTER.\n"
   ]
  },
  {
   "cell_type": "markdown",
   "metadata": {
    "id": "-mDDjPP-0PKM"
   },
   "source": [
    "## What is Numpy?\n",
    "\n",
    "Numpy, short for 'Numerical Python', is a fundamental package for scientific computing in Python. It provides powerful support for large, multi-dimensional array and matrix data structures and offers a wide range of mathematical functions to operate on these arrays.\n",
    "\n",
    "### Creating ndarray\n",
    "\n",
    "The primary data structure in Numpy is the ndarray, a multi-dimensional array offering fast and efficient array operations. This section will demonstrate how to create ndarrays from lists and tuples, highlighting the ease of transitioning from Python's standard data structures to Numpy's array-oriented computing approach. You'll learn how to create both one-dimensional and multi-dimensional arrays, serving as the foundation for more complex numerical computations.\n"
   ]
  },
  {
   "cell_type": "code",
   "execution_count": 1,
   "metadata": {
    "colab": {
     "base_uri": "https://localhost:8080/"
    },
    "id": "3j2mZsZWybnz",
    "outputId": "4f0fb40c-0a81-483d-f1a8-0c27fc98c8de"
   },
   "outputs": [
    {
     "name": "stdout",
     "output_type": "stream",
     "text": [
      "[5.5 6.  7.  8.  9. ]\n",
      "Dimensions = 1\n",
      "Shape = (5,)\n",
      "Size = 5\n",
      "Array type = float64\n",
      "\n",
      "[[10 11]\n",
      " [12 13]\n",
      " [14 15]\n",
      " [16 17]]\n",
      "Dimensions = 2\n",
      "Shape = (4, 2)\n",
      "Size = 8\n",
      "Array type = int64\n",
      "\n",
      "[['10' 'x' '4.0']\n",
      " ['20' 'y' '5.5']]\n",
      "Dimensions = 2\n",
      "Shape = (2, 3)\n",
      "Size = 6\n"
     ]
    }
   ],
   "source": [
    "import numpy as np\n",
    "\n",
    "# Creating a 1-dimensional array\n",
    "oneDArray = np.array([5.5, 6, 7, 8, 9])\n",
    "print(oneDArray)\n",
    "print(f\"Dimensions = {oneDArray.ndim}\")\n",
    "print(f\"Shape = {oneDArray.shape}\")\n",
    "print(f\"Size = {oneDArray.size}\")\n",
    "print(f\"Array type = {oneDArray.dtype}\\n\")\n",
    "\n",
    "# Creating a 2-dimensional array\n",
    "twoDArray = np.array([[10, 11], [12, 13], [14, 15], [16, 17]])\n",
    "print(twoDArray)\n",
    "print(f\"Dimensions = {twoDArray.ndim}\")\n",
    "print(f\"Shape = {twoDArray.shape}\")\n",
    "print(f\"Size = {twoDArray.size}\")\n",
    "print(f\"Array type = {twoDArray.dtype}\\n\")\n",
    "\n",
    "# Creating ndarray from a tuple\n",
    "tupleArray = np.array([(10, 'x', 4.0), (20, 'y', 5.5)])\n",
    "print(tupleArray)\n",
    "print(f\"Dimensions = {tupleArray.ndim}\")\n",
    "print(f\"Shape = {tupleArray.shape}\")\n",
    "print(f\"Size = {tupleArray.size}\")\n"
   ]
  },
  {
   "cell_type": "markdown",
   "metadata": {
    "id": "ID5qONkn18ho"
   },
   "source": [
    "#### The following examples utilize numpy functions to create arrays with random values, integers in a range, reshaped matrices, and equally spaced values in specified intervals.\n"
   ]
  },
  {
   "cell_type": "code",
   "execution_count": 2,
   "metadata": {
    "colab": {
     "base_uri": "https://localhost:8080/"
    },
    "id": "-ScxtInE19Sm",
    "outputId": "b15ae947-c473-4627-b1ae-7631a199549e"
   },
   "outputs": [
    {
     "name": "stdout",
     "output_type": "stream",
     "text": [
      "Uniformly distributed random numbers:\n",
      "[0.07101873 0.20373812 0.62919494 0.19313393]\n",
      "\n",
      "Normally distributed random numbers:\n",
      "[ 1.14549225 -1.6732867   0.84031137 -0.97025055]\n",
      "\n",
      "Sequential integers with a custom step:\n",
      "[-5 -4 -3 -2 -1  0  1  2  3  4]\n",
      "\n",
      "Matrix formed by reshaping a sequence:\n",
      "[[ 0  1  2  3]\n",
      " [ 4  5  6  7]\n",
      " [ 8  9 10 11]\n",
      " [12 13 14 15]]\n",
      "\n",
      "Equally spaced values in a given range:\n",
      "[0.  0.5 1.  1.5 2. ]\n",
      "\n",
      "Logarithmically spaced values:\n",
      "[1.e-02 1.e-01 1.e+00 1.e+01 1.e+02]\n"
     ]
    }
   ],
   "source": [
    "print(\"Uniformly distributed random numbers:\")\n",
    "print(np.random.rand(4))  # Generates 4 random numbers between 0 and 1\n",
    "\n",
    "print(\"\\nNormally distributed random numbers:\")\n",
    "print(np.random.randn(4))  # Generates 4 random numbers following a normal distribution\n",
    "\n",
    "print(\"\\nSequential integers with a custom step:\")\n",
    "print(np.arange(-5, 5, 1))  # Creates an array of integers from -5 to 4\n",
    "\n",
    "print(\"\\nMatrix formed by reshaping a sequence:\")\n",
    "print(np.arange(16).reshape(4, 4))  # Reshapes an array of 0-15 into a 4x4 matrix\n",
    "\n",
    "print(\"\\nEqually spaced values in a given range:\")\n",
    "print(np.linspace(0, 2, 5))  # Splits the interval [0,2] into 5 parts\n",
    "\n",
    "print(\"\\nLogarithmically spaced values:\")\n",
    "print(np.logspace(-2, 2, 5))  # Creates an array with values between 10^-2 and 10^2"
   ]
  },
  {
   "cell_type": "markdown",
   "metadata": {
    "id": "gUjQ6QZT2qFN"
   },
   "source": [
    "#### The following examples show how to create matrices filled with zeros or ones and an identity matrix using numpy functions.\n"
   ]
  },
  {
   "cell_type": "code",
   "execution_count": 3,
   "metadata": {
    "colab": {
     "base_uri": "https://localhost:8080/"
    },
    "id": "X8dWs-0U2tzy",
    "outputId": "f06afe15-1035-4fd1-9bb6-c53f4633e25d"
   },
   "outputs": [
    {
     "name": "stdout",
     "output_type": "stream",
     "text": [
      "Matrix filled with zeros:\n",
      "[[0. 0. 0. 0.]\n",
      " [0. 0. 0. 0.]\n",
      " [0. 0. 0. 0.]]\n",
      "\n",
      "Matrix filled with ones:\n",
      "[[1. 1. 1.]\n",
      " [1. 1. 1.]\n",
      " [1. 1. 1.]\n",
      " [1. 1. 1.]]\n",
      "\n",
      "Identity matrix:\n",
      "[[1. 0. 0. 0.]\n",
      " [0. 1. 0. 0.]\n",
      " [0. 0. 1. 0.]\n",
      " [0. 0. 0. 1.]]\n"
     ]
    }
   ],
   "source": [
    "print(\"Matrix filled with zeros:\")\n",
    "print(np.zeros((3, 4)))  # Creates a 3x4 matrix of zeros\n",
    "\n",
    "print(\"\\nMatrix filled with ones:\")\n",
    "print(np.ones((4, 3)))  # Creates a 4x3 matrix of ones\n",
    "\n",
    "print(\"\\nIdentity matrix:\")\n",
    "print(np.eye(4))  # Creates a 4x4 identity matrix\n"
   ]
  },
  {
   "cell_type": "markdown",
   "metadata": {
    "id": "_t58ClbK292j"
   },
   "source": [
    "### Element-wise Operations in Numpy\n",
    "\n",
    "Numpy enables efficient element-wise operations on ndarrays using standard arithmetic operators. These operations allow for concise and fast manipulation of array data, as each element is processed in parallel. This section demonstrates how to perform common arithmetic operations like addition, subtraction, multiplication, and division on an element-by-element basis in numpy arrays.\n"
   ]
  },
  {
   "cell_type": "code",
   "execution_count": 4,
   "metadata": {
    "colab": {
     "base_uri": "https://localhost:8080/"
    },
    "id": "D3ITGY2g3nwu",
    "outputId": "efba7f3d-e248-4fd8-edbc-e2ed48988759"
   },
   "outputs": [
    {
     "name": "stdout",
     "output_type": "stream",
     "text": [
      "a = [10 20 30 40 50]\n",
      "a + 5 = [15 25 35 45 55]\n",
      "a - 5 = [ 5 15 25 35 45]\n",
      "a * 2 = [ 20  40  60  80 100]\n",
      "a // 3 = [ 3  6 10 13 16]\n",
      "a ** 2 = [ 100  400  900 1600 2500]\n",
      "a % 4 = [2 0 2 0 2]\n",
      "1 / a = [0.1        0.05       0.03333333 0.025      0.02      ]\n",
      "b = [ 5 15 25 35 45]\n",
      "c = [ 2  4  6  8 10]\n",
      "b + c = [ 7 19 31 43 55]\n",
      "b - c = [ 3 11 19 27 35]\n",
      "b * c = [ 10  60 150 280 450]\n",
      "b / c = [2.5        3.75       4.16666667 4.375      4.5       ]\n",
      "b // c = [2 3 4 4 4]\n",
      "b ** c = [               25             50625         244140625     2251875390625\n",
      " 34050628916015625]\n"
     ]
    }
   ],
   "source": [
    "a = np.array([10, 20, 30, 40, 50])\n",
    "\n",
    "print(f\"a = {a}\")\n",
    "print(f\"a + 5 = {a + 5}\")  # Adds 5 to each element\n",
    "print(f\"a - 5 = {a - 5}\")  # Subtracts 5 from each element\n",
    "print(f\"a * 2 = {a * 2}\")  # Multiplies each element by 2\n",
    "print(f\"a // 3 = {a // 3}\")  # Integer division of each element by 3\n",
    "print(f\"a ** 2 = {a**2}\")  # Squares each element\n",
    "print(f\"a % 4 = {a % 4}\")  # Modulo operation on each element\n",
    "print(f\"1 / a = {1 / a}\")  # Divides 1 by each element\n",
    "\n",
    "b = np.array([5, 15, 25, 35, 45])\n",
    "c = np.array([2, 4, 6, 8, 10])\n",
    "\n",
    "print(f\"b = {b}\")\n",
    "print(f\"c = {c}\")\n",
    "print(f\"b + c = {b + c}\")  # Element-wise addition\n",
    "print(f\"b - c = {b - c}\")  # Element-wise subtraction\n",
    "print(f\"b * c = {b * c}\")  # Element-wise multiplication\n",
    "print(f\"b / c = {b / c}\")  # Element-wise division\n",
    "print(f\"b // c = {b // c}\")  # Element-wise integer division\n",
    "print(f\"b ** c = {b**c}\")  # Element-wise exponentiation\n"
   ]
  },
  {
   "cell_type": "markdown",
   "metadata": {
    "id": "yVcV4M_n4lED"
   },
   "source": [
    "### Indexing and Slicing in Numpy Arrays\n",
    "\n",
    "Within a Numpy array, a variety of methods are available for selecting specific elements or subsets. It's important to note that when you assign an array or its part to a new variable, it creates a reference to the original array, not a separate copy. To create an actual copy of an array, you must explicitly use the .copy() function to avoid unintended changes to the original data.\n"
   ]
  },
  {
   "cell_type": "code",
   "execution_count": 5,
   "metadata": {
    "colab": {
     "base_uri": "https://localhost:8080/"
    },
    "id": "7SxvGoWW6HZF",
    "outputId": "ac21c32d-e2be-47f6-e05c-50dad8b96fe8"
   },
   "outputs": [
    {
     "name": "stdout",
     "output_type": "stream",
     "text": [
      "Original a = [10 11 12 13 14 15 16 17 18 19]\n",
      "Initial b (slice of a) = [12 13 14]\n",
      "Modified b = [999 999 999]\n",
      "a (after modifying b) = [ 10  11 999 999 999  15  16  17  18  19]\n",
      "\n",
      "Original a = [ 10  11 999 999 999  15  16  17  18  19]\n",
      "Initial c (copy of a slice of a) = [999 999 999]\n",
      "Modified c = [333 333 333]\n",
      "a remains unchanged = [ 10  11 999 999 999  15  16  17  18  19]\n"
     ]
    }
   ],
   "source": [
    "a = np.arange(10, 20)\n",
    "print(f\"Original a = {a}\")\n",
    "\n",
    "# b is a slice, pointing to a subarray in a\n",
    "b = a[2:5]\n",
    "print(f\"Initial b (slice of a) = {b}\")\n",
    "b[:] = 999  # Modifying b will change a\n",
    "print(f\"Modified b = {b}\")\n",
    "print(f\"a (after modifying b) = {a}\\n\")\n",
    "\n",
    "# c is a separate copy of the subarray\n",
    "c = a[2:5].copy()\n",
    "print(f\"Original a = {a}\")\n",
    "print(f\"Initial c (copy of a slice of a) = {c}\")\n",
    "c[:] = 333  # Modifying c does not affect a\n",
    "print(f\"Modified c = {c}\")\n",
    "print(f\"a remains unchanged = {a}\")\n"
   ]
  },
  {
   "cell_type": "markdown",
   "metadata": {
    "id": "bzBCTkX5uGj_"
   },
   "source": [
    "#### The following example contrasts how element retrieval varies between a standard Python list and a numpy ndarray, highlighting the unique capabilities and syntax used in numpy.\n"
   ]
  },
  {
   "cell_type": "code",
   "execution_count": 6,
   "metadata": {
    "colab": {
     "base_uri": "https://localhost:8080/"
    },
    "id": "ZEI3eNwCuF7F",
    "outputId": "2b626cc4-751a-4d42-eeea-ec44e4bf135c"
   },
   "outputs": [
    {
     "name": "stdout",
     "output_type": "stream",
     "text": [
      "New 2D List: [[10, 20, 30], [40, 50, 60], [70, 80, 90]]\n",
      "Second row of 2D List: [40, 50, 60]\n",
      "\n",
      "Converted to numpy 2D array:\n",
      "[[10 20 30]\n",
      " [40 50 60]\n",
      " [70 80 90]]\n",
      "\n",
      "Second row in numpy array: myNew2dArray[1][:]= [40 50 60]\n",
      "Second row in numpy array: myNew2dArray[1, :]= [40 50 60]\n",
      "Third column in numpy array: myNew2dArray[:, 2]= [30 60 90]\n",
      "Top right 2x2 subarray:\n",
      "myNew2dArray[:2, 1:] =\n",
      " [[20 30]\n",
      " [50 60]]\n"
     ]
    }
   ],
   "source": [
    "# Creating a new 2D list\n",
    "myNew2dList = [[10, 20, 30], [40, 50, 60], [70, 80, 90]]\n",
    "print(f\"New 2D List: {myNew2dList}\")\n",
    "print(f\"Second row of 2D List: {myNew2dList[1]}\")\n",
    "# Note: Accessing elements in a list of lists can be limited\n",
    "\n",
    "# Converting the 2D list to a numpy array\n",
    "myNew2dArray = np.array(myNew2dList)\n",
    "print(f\"\\nConverted to numpy 2D array:\")\n",
    "print(f\"{myNew2dArray}\\n\")\n",
    "\n",
    "# Demonstrating numpy's advanced indexing capabilities\n",
    "print(f\"Second row in numpy array: myNew2dArray[1][:]= {myNew2dArray[1][:]}\")\n",
    "print(f\"Second row in numpy array: myNew2dArray[1, :]= {myNew2dArray[1, :]}\")\n",
    "print(f\"Third column in numpy array: myNew2dArray[:, 2]= {myNew2dArray[:, 2]}\")\n",
    "print(f\"Top right 2x2 subarray:\")\n",
    "print(f\"myNew2dArray[:2, 1:] =\\n {myNew2dArray[:2, 1:]}\")\n"
   ]
  },
  {
   "cell_type": "markdown",
   "metadata": {
    "id": "Y5x9ejujw705"
   },
   "source": [
    "#### The following examples illustrate how to use boolean indexing to select elements from a numpy array\n"
   ]
  },
  {
   "cell_type": "code",
   "execution_count": 7,
   "metadata": {
    "colab": {
     "base_uri": "https://localhost:8080/"
    },
    "id": "WnEA_KJwxgX4",
    "outputId": "583bc76e-97d8-430c-93f2-e4f03210ed4b"
   },
   "outputs": [
    {
     "name": "stdout",
     "output_type": "stream",
     "text": [
      "New 2D Array:\n",
      "[[10 11 12 13]\n",
      " [14 15 16 17]\n",
      " [18 19 20 21]]\n",
      "Elements greater than 15:\n",
      "[16 17 18 19 20 21]\n",
      "Elements in the first row less than 13:\n",
      "[10 11 12]\n"
     ]
    }
   ],
   "source": [
    "# Creating a different numpy 2D array\n",
    "newArray = np.arange(10, 22).reshape(3, 4)\n",
    "print(f\"New 2D Array:\\n{newArray}\")\n",
    "\n",
    "# Boolean indexing to filter elements greater than 15\n",
    "greaterThan15 = newArray[newArray > 15]\n",
    "print(f\"Elements greater than 15:\\n{greaterThan15}\")\n",
    "\n",
    "# Boolean indexing on the first row for elements less than 13\n",
    "lessThan13FirstRow = newArray[0, newArray[0, :] < 13]\n",
    "print(f\"Elements in the first row less than 13:\\n{lessThan13FirstRow}\")\n"
   ]
  },
  {
   "cell_type": "markdown",
   "metadata": {
    "id": "m5MayZe4yF0f"
   },
   "source": [
    "#### More indexing examples.\n"
   ]
  },
  {
   "cell_type": "code",
   "execution_count": 8,
   "metadata": {
    "colab": {
     "base_uri": "https://localhost:8080/"
    },
    "id": "z5DS0d5UzRlR",
    "outputId": "ec283fec-dc17-47bf-c543-f9533c85a0cd"
   },
   "outputs": [
    {
     "name": "stdout",
     "output_type": "stream",
     "text": [
      "2D Array:\n",
      "[[10 11 12]\n",
      " [13 14 15]\n",
      " [16 17 18]\n",
      " [19 20 21]]\n",
      "Row indices for shuffling: [1, 3, 2, 0]\n",
      "\n",
      "Shuffled Rows:\n",
      "[[13 14 15]\n",
      " [19 20 21]\n",
      " [16 17 18]\n",
      " [10 11 12]]\n",
      "\n",
      "Row Indices: [3, 2, 1, 0, 0]\n",
      "Column Indices: [1, 2, 0, 1, 2]\n",
      "\n",
      "Selected Elements: [20 18 13 11 12]\n"
     ]
    }
   ],
   "source": [
    "# Creating a numpy 2D array with a different shape\n",
    "my2darr = np.arange(10, 22).reshape(4, 3)\n",
    "print(f\"2D Array:\\n{my2darr}\")\n",
    "\n",
    "# Shuffling rows using specified indices\n",
    "indices = [1, 3, 2, 0]\n",
    "print(f\"Row indices for shuffling: {indices}\\n\")\n",
    "shuffledRows = my2darr[indices, :]\n",
    "print(f\"Shuffled Rows:\\n{shuffledRows}\")\n",
    "\n",
    "# Selecting specific elements using row and column indices\n",
    "rowIndex = [3, 2, 1, 0, 0]\n",
    "columnIndex = [1, 2, 0, 1, 2]\n",
    "print(f\"\\nRow Indices: {rowIndex}\")\n",
    "print(f\"Column Indices: {columnIndex}\\n\")\n",
    "selectedElements = my2darr[rowIndex, columnIndex]\n",
    "print(f\"Selected Elements: {selectedElements}\")\n"
   ]
  },
  {
   "cell_type": "markdown",
   "metadata": {
    "id": "CrWlbrSH0qNG"
   },
   "source": [
    "### Numpy Arithmetic and Statistical Functions\n",
    "\n",
    "The following examples illustrate the use of numpy functions for basic arithmetic operations on arrays and performing common statistical calculations.\n"
   ]
  },
  {
   "cell_type": "code",
   "execution_count": 9,
   "metadata": {
    "colab": {
     "base_uri": "https://localhost:8080/"
    },
    "id": "uViuZ3Uh0yrY",
    "outputId": "9f185600-3991-455d-98bc-f9fc15f56230"
   },
   "outputs": [
    {
     "name": "stdout",
     "output_type": "stream",
     "text": [
      "Array z: [ 2.5 -1.7  3.3 -4.4  5.1]\n",
      "\n",
      "Absolute values: np.abs(z) = [2.5 1.7 3.3 4.4 5.1]\n",
      "Square roots: np.sqrt(np.abs(z)) = [1.58113883 1.30384048 1.81659021 2.0976177  2.25831796]\n",
      "Signs of z: np.sign(z) = [ 1. -1.  1. -1.  1.]\n",
      "Exponential function: np.exp(z) = [1.21824940e+01 1.82683524e-01 2.71126389e+01 1.22773399e-02\n",
      " 1.64021907e+02]\n",
      "Sorted array: np.sort(z) = [-4.4 -1.7  2.5  3.3  5.1]\n",
      "\n",
      "Array a: [-2. -1.  0.  1.  2.]\n",
      "Array b: [0.00734031 0.67355429 0.76947562 0.20450548 0.97010403]\n",
      "\n",
      "Element-wise addition: np.add(a, b) = [-1.99265969 -0.32644571  0.76947562  1.20450548  2.97010403]\n",
      "Element-wise subtraction: np.subtract(a, b) = [-2.00734031 -1.67355429 -0.76947562  0.79549452  1.02989597]\n",
      "Element-wise multiplication: np.multiply(a, b) = [-0.01468062 -0.67355429  0.          0.20450548  1.94020805]\n",
      "Element-wise division: np.divide(a, b) = [-272.46807948   -1.48466133    0.            4.88984463    2.06163458]\n",
      "Element-wise maximum: np.maximum(a, b) = [0.00734031 0.67355429 0.76947562 1.         2.        ]\n",
      "\n",
      "Array z: [ 4.5 -2.3  1.1  3.8 -4.6]\n",
      "\n",
      "Minimum value: np.min(z) = -4.6\n",
      "Maximum value: np.max(z) = 4.5\n",
      "Average value: np.mean(z) = 0.5\n",
      "Standard deviation: np.std(z) = 3.495711658589707\n",
      "Sum of elements: np.sum(z) = 2.5\n"
     ]
    }
   ],
   "source": [
    "z = np.array([2.5, -1.7, 3.3, -4.4, 5.1])\n",
    "print(f\"Array z: {z}\\n\")\n",
    "\n",
    "print(f\"Absolute values: np.abs(z) = {np.abs(z)}\")\n",
    "print(f\"Square roots: np.sqrt(np.abs(z)) = {np.sqrt(np.abs(z))}\")\n",
    "print(f\"Signs of z: np.sign(z) = {np.sign(z)}\")\n",
    "print(f\"Exponential function: np.exp(z) = {np.exp(z)}\")\n",
    "print(f\"Sorted array: np.sort(z) = {np.sort(z)}\\n\")\n",
    "\n",
    "a = np.linspace(-2, 2, 5)\n",
    "b = np.random.rand(5)\n",
    "print(f\"Array a: {a}\")\n",
    "print(f\"Array b: {b}\\n\")\n",
    "\n",
    "print(f\"Element-wise addition: np.add(a, b) = {np.add(a, b)}\")\n",
    "print(f\"Element-wise subtraction: np.subtract(a, b) = {np.subtract(a, b)}\")\n",
    "print(f\"Element-wise multiplication: np.multiply(a, b) = {np.multiply(a, b)}\")\n",
    "print(f\"Element-wise division: np.divide(a, b) = {np.divide(a, b)}\")\n",
    "print(f\"Element-wise maximum: np.maximum(a, b) = {np.maximum(a, b)}\\n\")\n",
    "\n",
    "z = np.array([4.5, -2.3, 1.1, 3.8, -4.6])\n",
    "print(f\"Array z: {z}\\n\")\n",
    "\n",
    "print(f\"Minimum value: np.min(z) = {np.min(z)}\")\n",
    "print(f\"Maximum value: np.max(z) = {np.max(z)}\")\n",
    "print(f\"Average value: np.mean(z) = {np.mean(z)}\")\n",
    "print(f\"Standard deviation: np.std(z) = {np.std(z)}\")\n",
    "print(f\"Sum of elements: np.sum(z) = {np.sum(z)}\")\n"
   ]
  },
  {
   "cell_type": "markdown",
   "metadata": {
    "id": "-XPqPMez3v17"
   },
   "source": [
    "### Numpy linear algebra\n",
    "\n",
    "The following examples illustrate various linear algebra operations in numpy\n"
   ]
  },
  {
   "cell_type": "code",
   "execution_count": 10,
   "metadata": {
    "colab": {
     "base_uri": "https://localhost:8080/"
    },
    "id": "OBOje5Wz37UZ",
    "outputId": "345ff9ed-7121-4e13-c67f-bf47c284bc9b"
   },
   "outputs": [
    {
     "name": "stdout",
     "output_type": "stream",
     "text": [
      "Random matrix A:\n",
      "[[-1.84655196  0.04673481]\n",
      " [ 2.32675816  0.50156401]\n",
      " [ 1.01207268 -1.03552755]]\n",
      "\n",
      "Transpose of A, A.T:\n",
      "[[-1.84655196  2.32675816  1.01207268]\n",
      " [ 0.04673481  0.50156401 -1.03552755]]\n",
      "\n",
      "Random vector z: [-0.11753267 -0.7367823 ]\n",
      "\n",
      "Matrix-vector multiplication A.dot(z):\n",
      "[ 0.1825968  -0.64301359  0.64400677]\n",
      "\n",
      "Matrix-matrix product A.dot(A.T):\n",
      "[[ 3.41193829 -4.27303934 -1.91723999]\n",
      " [-4.27303934  5.66536999  1.83546502]\n",
      " [-1.91723999  1.83546502  2.09660843]]\n",
      "\n",
      "A.T.dot(A):\n",
      "[[9.8478488  0.03269075]\n",
      " [0.03269075 1.32606791]]\n",
      "\n",
      "Square matrix B:\n",
      "[[ 0.39411618  0.52489416 -0.02456062  0.57088976]\n",
      " [-1.93114786  1.75221561 -0.65362453  0.51966259]\n",
      " [-0.6513191   1.75223895 -1.47575983  1.79896522]\n",
      " [-0.68380797  0.90031765 -0.43628221  0.44115856]]\n",
      "Inverse of B:\n",
      "[[ -0.21896018  -3.16262871  -1.06684406   8.35916526]\n",
      " [  0.16097361  -2.87711276  -1.61175635   9.75323547]\n",
      " [  2.56121537   4.07980091   0.6160755  -10.63243549]\n",
      " [  1.86499525   5.00416281   2.24490488 -15.19564466]]\n",
      "\n",
      "Determinant of B: 0.11747487941750721\n",
      "Eigenvalues of B:\n",
      "[ 1.00444007+1.18918069j  1.00444007-1.18918069j -0.8393908 +0.j\n",
      " -0.05775882+0.j        ]\n",
      "Eigenvectors of B:\n",
      "[[ 0.15168183-0.3452258j   0.15168183+0.3452258j   0.11670117+0.j\n",
      "  -0.3617618 +0.j        ]\n",
      " [ 0.65064181+0.j          0.65064181-0.j         -0.12068527+0.j\n",
      "  -0.38408294+0.j        ]\n",
      " [ 0.53971822-0.21330118j  0.53971822+0.21330118j -0.96869799+0.j\n",
      "   0.53186676+0.j        ]\n",
      " [ 0.30627389-0.06229094j  0.30627389+0.06229094j -0.18286638+0.j\n",
      "   0.66236429+0.j        ]]\n"
     ]
    }
   ],
   "source": [
    "# Creating a different random matrix\n",
    "A = np.random.randn(3, 2)\n",
    "print(f\"Random matrix A:\\n{A}\\n\")\n",
    "print(f\"Transpose of A, A.T:\\n{A.T}\\n\")  # Transpose of A\n",
    "\n",
    "# Creating another random vector\n",
    "z = np.random.randn(2)\n",
    "print(f\"Random vector z: {z}\\n\")\n",
    "\n",
    "# Matrix-vector multiplication\n",
    "print(\"Matrix-vector multiplication A.dot(z):\")\n",
    "print(f\"{A.dot(z)}\\n\")\n",
    "\n",
    "# Matrix-matrix multiplication\n",
    "print(\"Matrix-matrix product A.dot(A.T):\")\n",
    "print(f\"{A.dot(A.T)}\")\n",
    "print(f\"\\nA.T.dot(A):\\n{A.T.dot(A)}\")\n",
    "\n",
    "# Creating a square matrix\n",
    "B = np.random.randn(4, 4)\n",
    "print(f\"\\nSquare matrix B:\\n{B}\")\n",
    "\n",
    "# Inverse of the square matrix\n",
    "invB = np.linalg.inv(B)\n",
    "print(f\"Inverse of B:\\n{invB}\\n\")\n",
    "\n",
    "# Determinant of the square matrix\n",
    "detB = np.linalg.det(B)\n",
    "print(f\"Determinant of B: {detB}\")\n",
    "\n",
    "# Eigenvalues and eigenvectors of the square matrix\n",
    "eigenvalues, eigenvectors = np.linalg.eig(B)\n",
    "print(f\"Eigenvalues of B:\\n{eigenvalues}\")\n",
    "print(f\"Eigenvectors of B:\\n{eigenvectors}\")\n"
   ]
  }
 ],
 "metadata": {
  "colab": {
   "provenance": []
  },
  "kernelspec": {
   "display_name": "Python 3",
   "name": "python3"
  },
  "language_info": {
   "codemirror_mode": {
    "name": "ipython",
    "version": 3
   },
   "file_extension": ".py",
   "mimetype": "text/x-python",
   "name": "python",
   "nbconvert_exporter": "python",
   "pygments_lexer": "ipython3",
   "version": "3.11.6"
  }
 },
 "nbformat": 4,
 "nbformat_minor": 0
}